{
 "cells": [
  {
   "cell_type": "markdown",
   "metadata": {},
   "source": [
    "# Python For Finance\n",
    "\n",
    "This workshop uses the **Investor Exchange API, and the Pandas & Matplotlib** Python libraries.\n",
    "\n",
    "This workshop is an adaptation of the posts by Gerogios Efstathopoulos and can be found here: https://www.learndatasci.com/tutorials/python-finance-part-yahoo-finance-api-pandas-matplotlib/"
   ]
  },
  {
   "cell_type": "markdown",
   "metadata": {},
   "source": [
    "## Introduction to Pandas\n",
    "\n",
    "The Pandas Library stands for *Python Data Analysis Library* and is an easy-to-use, open source tool for analysing data.\n",
    "\n",
    "The key thing to know about Pandas is that it takes in tabular data, like in an Excel/CSV spreadsheet, and creates a Python object consisting of rows and columns, called a **DataFrame**, which then comes with a handful of useful functions or actions we can apply . \n",
    "\n",
    "For a short 10min tutorial on Pandas, see https://pandas.pydata.org/pandas-docs/stable/getting_started/10min.html\n",
    "\n",
    "We will go through a few key Pandas items here.\n",
    "\n",
    "### Using Pandas\n",
    "By convention we import Pandas, along with another helpful library called Numpy, as follows:"
   ]
  },
  {
   "cell_type": "code",
   "execution_count": 4,
   "metadata": {},
   "outputs": [],
   "source": [
    "import numpy as np\n",
    "import pandas as pd"
   ]
  },
  {
   "cell_type": "markdown",
   "metadata": {},
   "source": [
    "The Pandas library is now accessible to us as the `pd` variable.\n",
    "\n",
    "Now we create a **DataFrame** consisting of indicies (i.e. the row labels), columns and our data. The syntax for creating a DataFrame is:\n",
    "\n",
    "`df = pd.DataFrame(<your data>, index=<your row labels>, columns = <your column labels>)`\n",
    "\n",
    "### Sample DataFrame\n",
    "\n",
    "First, let's create a list of row labels, or **indicies** consisting of dates:"
   ]
  },
  {
   "cell_type": "code",
   "execution_count": 6,
   "metadata": {},
   "outputs": [
    {
     "data": {
      "text/plain": [
       "['2020-01-01',\n",
       " '2020-01-02',\n",
       " '2020-01-03',\n",
       " '2020-01-04',\n",
       " '2020-01-05',\n",
       " '2020-01-06']"
      ]
     },
     "execution_count": 6,
     "metadata": {},
     "output_type": "execute_result"
    }
   ],
   "source": [
    "dates = ['2020-01-01', '2020-01-02', '2020-01-03', '2020-01-04', '2020-01-05', '2020-01-06']\n",
    "\n",
    "# Let's see this data\n",
    "dates"
   ]
  },
  {
   "cell_type": "code",
   "execution_count": 5,
   "metadata": {},
   "outputs": [
    {
     "data": {
      "text/plain": [
       "array([[0.49821152, 0.518362  , 0.87665585, 0.14617016],\n",
       "       [0.18297211, 0.21592063, 0.16632201, 0.80223735],\n",
       "       [0.30323665, 0.93164908, 0.50160134, 0.74517525],\n",
       "       [0.95087212, 0.19505701, 0.50203728, 0.38545799],\n",
       "       [0.90661155, 0.37859818, 0.46461612, 0.07938104],\n",
       "       [0.85051019, 0.5383689 , 0.26006682, 0.70192471]])"
      ]
     },
     "execution_count": 5,
     "metadata": {},
     "output_type": "execute_result"
    }
   ],
   "source": [
    "# Now we create our sample data made up of random numbers\n",
    "sample_data = np.random.rand(6,4) # creates a 6 x 4 matrix of random numbers between 0 and 1\n",
    "\n",
    "# Let's see this data:\n",
    "sample_data"
   ]
  },
  {
   "cell_type": "code",
   "execution_count": 8,
   "metadata": {},
   "outputs": [],
   "source": [
    "# Lastly, we label our columns\n",
    "column_labels = ['A', 'B', 'C', 'D']"
   ]
  },
  {
   "cell_type": "code",
   "execution_count": 10,
   "metadata": {},
   "outputs": [
    {
     "data": {
      "text/html": [
       "<div>\n",
       "<style scoped>\n",
       "    .dataframe tbody tr th:only-of-type {\n",
       "        vertical-align: middle;\n",
       "    }\n",
       "\n",
       "    .dataframe tbody tr th {\n",
       "        vertical-align: top;\n",
       "    }\n",
       "\n",
       "    .dataframe thead th {\n",
       "        text-align: right;\n",
       "    }\n",
       "</style>\n",
       "<table border=\"1\" class=\"dataframe\">\n",
       "  <thead>\n",
       "    <tr style=\"text-align: right;\">\n",
       "      <th></th>\n",
       "      <th>A</th>\n",
       "      <th>B</th>\n",
       "      <th>C</th>\n",
       "      <th>D</th>\n",
       "    </tr>\n",
       "  </thead>\n",
       "  <tbody>\n",
       "    <tr>\n",
       "      <td>2020-01-01</td>\n",
       "      <td>0.498212</td>\n",
       "      <td>0.518362</td>\n",
       "      <td>0.876656</td>\n",
       "      <td>0.146170</td>\n",
       "    </tr>\n",
       "    <tr>\n",
       "      <td>2020-01-02</td>\n",
       "      <td>0.182972</td>\n",
       "      <td>0.215921</td>\n",
       "      <td>0.166322</td>\n",
       "      <td>0.802237</td>\n",
       "    </tr>\n",
       "    <tr>\n",
       "      <td>2020-01-03</td>\n",
       "      <td>0.303237</td>\n",
       "      <td>0.931649</td>\n",
       "      <td>0.501601</td>\n",
       "      <td>0.745175</td>\n",
       "    </tr>\n",
       "    <tr>\n",
       "      <td>2020-01-04</td>\n",
       "      <td>0.950872</td>\n",
       "      <td>0.195057</td>\n",
       "      <td>0.502037</td>\n",
       "      <td>0.385458</td>\n",
       "    </tr>\n",
       "    <tr>\n",
       "      <td>2020-01-05</td>\n",
       "      <td>0.906612</td>\n",
       "      <td>0.378598</td>\n",
       "      <td>0.464616</td>\n",
       "      <td>0.079381</td>\n",
       "    </tr>\n",
       "    <tr>\n",
       "      <td>2020-01-06</td>\n",
       "      <td>0.850510</td>\n",
       "      <td>0.538369</td>\n",
       "      <td>0.260067</td>\n",
       "      <td>0.701925</td>\n",
       "    </tr>\n",
       "  </tbody>\n",
       "</table>\n",
       "</div>"
      ],
      "text/plain": [
       "                   A         B         C         D\n",
       "2020-01-01  0.498212  0.518362  0.876656  0.146170\n",
       "2020-01-02  0.182972  0.215921  0.166322  0.802237\n",
       "2020-01-03  0.303237  0.931649  0.501601  0.745175\n",
       "2020-01-04  0.950872  0.195057  0.502037  0.385458\n",
       "2020-01-05  0.906612  0.378598  0.464616  0.079381\n",
       "2020-01-06  0.850510  0.538369  0.260067  0.701925"
      ]
     },
     "execution_count": 10,
     "metadata": {},
     "output_type": "execute_result"
    }
   ],
   "source": [
    "# Now we create our DataFrame\n",
    "df = pd.DataFrame(sample_data, index=dates, columns=column_labels)\n",
    "\n",
    "# Print the DataFrame\n",
    "df"
   ]
  },
  {
   "cell_type": "markdown",
   "metadata": {},
   "source": [
    "Now let us look at how we can interact with this dataframe using some built-in methods:"
   ]
  },
  {
   "cell_type": "code",
   "execution_count": 11,
   "metadata": {},
   "outputs": [
    {
     "data": {
      "text/html": [
       "<div>\n",
       "<style scoped>\n",
       "    .dataframe tbody tr th:only-of-type {\n",
       "        vertical-align: middle;\n",
       "    }\n",
       "\n",
       "    .dataframe tbody tr th {\n",
       "        vertical-align: top;\n",
       "    }\n",
       "\n",
       "    .dataframe thead th {\n",
       "        text-align: right;\n",
       "    }\n",
       "</style>\n",
       "<table border=\"1\" class=\"dataframe\">\n",
       "  <thead>\n",
       "    <tr style=\"text-align: right;\">\n",
       "      <th></th>\n",
       "      <th>A</th>\n",
       "      <th>B</th>\n",
       "      <th>C</th>\n",
       "      <th>D</th>\n",
       "    </tr>\n",
       "  </thead>\n",
       "  <tbody>\n",
       "    <tr>\n",
       "      <td>2020-01-01</td>\n",
       "      <td>0.498212</td>\n",
       "      <td>0.518362</td>\n",
       "      <td>0.876656</td>\n",
       "      <td>0.146170</td>\n",
       "    </tr>\n",
       "    <tr>\n",
       "      <td>2020-01-02</td>\n",
       "      <td>0.182972</td>\n",
       "      <td>0.215921</td>\n",
       "      <td>0.166322</td>\n",
       "      <td>0.802237</td>\n",
       "    </tr>\n",
       "    <tr>\n",
       "      <td>2020-01-03</td>\n",
       "      <td>0.303237</td>\n",
       "      <td>0.931649</td>\n",
       "      <td>0.501601</td>\n",
       "      <td>0.745175</td>\n",
       "    </tr>\n",
       "    <tr>\n",
       "      <td>2020-01-04</td>\n",
       "      <td>0.950872</td>\n",
       "      <td>0.195057</td>\n",
       "      <td>0.502037</td>\n",
       "      <td>0.385458</td>\n",
       "    </tr>\n",
       "    <tr>\n",
       "      <td>2020-01-05</td>\n",
       "      <td>0.906612</td>\n",
       "      <td>0.378598</td>\n",
       "      <td>0.464616</td>\n",
       "      <td>0.079381</td>\n",
       "    </tr>\n",
       "  </tbody>\n",
       "</table>\n",
       "</div>"
      ],
      "text/plain": [
       "                   A         B         C         D\n",
       "2020-01-01  0.498212  0.518362  0.876656  0.146170\n",
       "2020-01-02  0.182972  0.215921  0.166322  0.802237\n",
       "2020-01-03  0.303237  0.931649  0.501601  0.745175\n",
       "2020-01-04  0.950872  0.195057  0.502037  0.385458\n",
       "2020-01-05  0.906612  0.378598  0.464616  0.079381"
      ]
     },
     "execution_count": 11,
     "metadata": {},
     "output_type": "execute_result"
    }
   ],
   "source": [
    "df.head() # Gives us just the top 5 rows of our dataframe by default"
   ]
  },
  {
   "cell_type": "code",
   "execution_count": 12,
   "metadata": {},
   "outputs": [
    {
     "data": {
      "text/html": [
       "<div>\n",
       "<style scoped>\n",
       "    .dataframe tbody tr th:only-of-type {\n",
       "        vertical-align: middle;\n",
       "    }\n",
       "\n",
       "    .dataframe tbody tr th {\n",
       "        vertical-align: top;\n",
       "    }\n",
       "\n",
       "    .dataframe thead th {\n",
       "        text-align: right;\n",
       "    }\n",
       "</style>\n",
       "<table border=\"1\" class=\"dataframe\">\n",
       "  <thead>\n",
       "    <tr style=\"text-align: right;\">\n",
       "      <th></th>\n",
       "      <th>A</th>\n",
       "      <th>B</th>\n",
       "      <th>C</th>\n",
       "      <th>D</th>\n",
       "    </tr>\n",
       "  </thead>\n",
       "  <tbody>\n",
       "    <tr>\n",
       "      <td>2020-01-04</td>\n",
       "      <td>0.950872</td>\n",
       "      <td>0.195057</td>\n",
       "      <td>0.502037</td>\n",
       "      <td>0.385458</td>\n",
       "    </tr>\n",
       "    <tr>\n",
       "      <td>2020-01-05</td>\n",
       "      <td>0.906612</td>\n",
       "      <td>0.378598</td>\n",
       "      <td>0.464616</td>\n",
       "      <td>0.079381</td>\n",
       "    </tr>\n",
       "    <tr>\n",
       "      <td>2020-01-06</td>\n",
       "      <td>0.850510</td>\n",
       "      <td>0.538369</td>\n",
       "      <td>0.260067</td>\n",
       "      <td>0.701925</td>\n",
       "    </tr>\n",
       "  </tbody>\n",
       "</table>\n",
       "</div>"
      ],
      "text/plain": [
       "                   A         B         C         D\n",
       "2020-01-04  0.950872  0.195057  0.502037  0.385458\n",
       "2020-01-05  0.906612  0.378598  0.464616  0.079381\n",
       "2020-01-06  0.850510  0.538369  0.260067  0.701925"
      ]
     },
     "execution_count": 12,
     "metadata": {},
     "output_type": "execute_result"
    }
   ],
   "source": [
    "df.tail(3) # Gives us the bottom 3 rows of our dataframe since we've specified the number"
   ]
  },
  {
   "cell_type": "code",
   "execution_count": 13,
   "metadata": {},
   "outputs": [
    {
     "data": {
      "text/html": [
       "<div>\n",
       "<style scoped>\n",
       "    .dataframe tbody tr th:only-of-type {\n",
       "        vertical-align: middle;\n",
       "    }\n",
       "\n",
       "    .dataframe tbody tr th {\n",
       "        vertical-align: top;\n",
       "    }\n",
       "\n",
       "    .dataframe thead th {\n",
       "        text-align: right;\n",
       "    }\n",
       "</style>\n",
       "<table border=\"1\" class=\"dataframe\">\n",
       "  <thead>\n",
       "    <tr style=\"text-align: right;\">\n",
       "      <th></th>\n",
       "      <th>A</th>\n",
       "      <th>B</th>\n",
       "      <th>C</th>\n",
       "      <th>D</th>\n",
       "    </tr>\n",
       "  </thead>\n",
       "  <tbody>\n",
       "    <tr>\n",
       "      <td>count</td>\n",
       "      <td>6.000000</td>\n",
       "      <td>6.000000</td>\n",
       "      <td>6.000000</td>\n",
       "      <td>6.000000</td>\n",
       "    </tr>\n",
       "    <tr>\n",
       "      <td>mean</td>\n",
       "      <td>0.615402</td>\n",
       "      <td>0.462993</td>\n",
       "      <td>0.461883</td>\n",
       "      <td>0.476724</td>\n",
       "    </tr>\n",
       "    <tr>\n",
       "      <td>std</td>\n",
       "      <td>0.331902</td>\n",
       "      <td>0.271419</td>\n",
       "      <td>0.246301</td>\n",
       "      <td>0.317559</td>\n",
       "    </tr>\n",
       "    <tr>\n",
       "      <td>min</td>\n",
       "      <td>0.182972</td>\n",
       "      <td>0.195057</td>\n",
       "      <td>0.166322</td>\n",
       "      <td>0.079381</td>\n",
       "    </tr>\n",
       "    <tr>\n",
       "      <td>25%</td>\n",
       "      <td>0.351980</td>\n",
       "      <td>0.256590</td>\n",
       "      <td>0.311204</td>\n",
       "      <td>0.205992</td>\n",
       "    </tr>\n",
       "    <tr>\n",
       "      <td>50%</td>\n",
       "      <td>0.674361</td>\n",
       "      <td>0.448480</td>\n",
       "      <td>0.483109</td>\n",
       "      <td>0.543691</td>\n",
       "    </tr>\n",
       "    <tr>\n",
       "      <td>75%</td>\n",
       "      <td>0.892586</td>\n",
       "      <td>0.533367</td>\n",
       "      <td>0.501928</td>\n",
       "      <td>0.734363</td>\n",
       "    </tr>\n",
       "    <tr>\n",
       "      <td>max</td>\n",
       "      <td>0.950872</td>\n",
       "      <td>0.931649</td>\n",
       "      <td>0.876656</td>\n",
       "      <td>0.802237</td>\n",
       "    </tr>\n",
       "  </tbody>\n",
       "</table>\n",
       "</div>"
      ],
      "text/plain": [
       "              A         B         C         D\n",
       "count  6.000000  6.000000  6.000000  6.000000\n",
       "mean   0.615402  0.462993  0.461883  0.476724\n",
       "std    0.331902  0.271419  0.246301  0.317559\n",
       "min    0.182972  0.195057  0.166322  0.079381\n",
       "25%    0.351980  0.256590  0.311204  0.205992\n",
       "50%    0.674361  0.448480  0.483109  0.543691\n",
       "75%    0.892586  0.533367  0.501928  0.734363\n",
       "max    0.950872  0.931649  0.876656  0.802237"
      ]
     },
     "execution_count": 13,
     "metadata": {},
     "output_type": "execute_result"
    }
   ],
   "source": [
    "df.describe() # Gives us a nice summary table of the data"
   ]
  },
  {
   "cell_type": "code",
   "execution_count": 14,
   "metadata": {},
   "outputs": [
    {
     "data": {
      "text/html": [
       "<div>\n",
       "<style scoped>\n",
       "    .dataframe tbody tr th:only-of-type {\n",
       "        vertical-align: middle;\n",
       "    }\n",
       "\n",
       "    .dataframe tbody tr th {\n",
       "        vertical-align: top;\n",
       "    }\n",
       "\n",
       "    .dataframe thead th {\n",
       "        text-align: right;\n",
       "    }\n",
       "</style>\n",
       "<table border=\"1\" class=\"dataframe\">\n",
       "  <thead>\n",
       "    <tr style=\"text-align: right;\">\n",
       "      <th></th>\n",
       "      <th>A</th>\n",
       "      <th>B</th>\n",
       "      <th>C</th>\n",
       "      <th>D</th>\n",
       "    </tr>\n",
       "  </thead>\n",
       "  <tbody>\n",
       "    <tr>\n",
       "      <td>2020-01-04</td>\n",
       "      <td>0.950872</td>\n",
       "      <td>0.195057</td>\n",
       "      <td>0.502037</td>\n",
       "      <td>0.385458</td>\n",
       "    </tr>\n",
       "    <tr>\n",
       "      <td>2020-01-02</td>\n",
       "      <td>0.182972</td>\n",
       "      <td>0.215921</td>\n",
       "      <td>0.166322</td>\n",
       "      <td>0.802237</td>\n",
       "    </tr>\n",
       "    <tr>\n",
       "      <td>2020-01-05</td>\n",
       "      <td>0.906612</td>\n",
       "      <td>0.378598</td>\n",
       "      <td>0.464616</td>\n",
       "      <td>0.079381</td>\n",
       "    </tr>\n",
       "    <tr>\n",
       "      <td>2020-01-01</td>\n",
       "      <td>0.498212</td>\n",
       "      <td>0.518362</td>\n",
       "      <td>0.876656</td>\n",
       "      <td>0.146170</td>\n",
       "    </tr>\n",
       "    <tr>\n",
       "      <td>2020-01-06</td>\n",
       "      <td>0.850510</td>\n",
       "      <td>0.538369</td>\n",
       "      <td>0.260067</td>\n",
       "      <td>0.701925</td>\n",
       "    </tr>\n",
       "    <tr>\n",
       "      <td>2020-01-03</td>\n",
       "      <td>0.303237</td>\n",
       "      <td>0.931649</td>\n",
       "      <td>0.501601</td>\n",
       "      <td>0.745175</td>\n",
       "    </tr>\n",
       "  </tbody>\n",
       "</table>\n",
       "</div>"
      ],
      "text/plain": [
       "                   A         B         C         D\n",
       "2020-01-04  0.950872  0.195057  0.502037  0.385458\n",
       "2020-01-02  0.182972  0.215921  0.166322  0.802237\n",
       "2020-01-05  0.906612  0.378598  0.464616  0.079381\n",
       "2020-01-01  0.498212  0.518362  0.876656  0.146170\n",
       "2020-01-06  0.850510  0.538369  0.260067  0.701925\n",
       "2020-01-03  0.303237  0.931649  0.501601  0.745175"
      ]
     },
     "execution_count": 14,
     "metadata": {},
     "output_type": "execute_result"
    }
   ],
   "source": [
    "df.sort_values(by='B') # Sort by a specific column"
   ]
  },
  {
   "cell_type": "code",
   "execution_count": 15,
   "metadata": {},
   "outputs": [
    {
     "data": {
      "text/plain": [
       "2020-01-01    2.039400\n",
       "2020-01-02    1.367452\n",
       "2020-01-03    2.481662\n",
       "2020-01-04    2.033424\n",
       "2020-01-05    1.829207\n",
       "2020-01-06    2.350871\n",
       "dtype: float64"
      ]
     },
     "execution_count": 15,
     "metadata": {},
     "output_type": "execute_result"
    }
   ],
   "source": [
    "df.sum(axis=1) # Sums across the columns. axis=0 will sum across the rows."
   ]
  },
  {
   "cell_type": "code",
   "execution_count": 16,
   "metadata": {},
   "outputs": [
    {
     "data": {
      "text/plain": [
       "2020-01-01    0.518362\n",
       "2020-01-02    0.215921\n",
       "2020-01-03    0.931649\n",
       "2020-01-04    0.195057\n",
       "2020-01-05    0.378598\n",
       "2020-01-06    0.538369\n",
       "Name: B, dtype: float64"
      ]
     },
     "execution_count": 16,
     "metadata": {},
     "output_type": "execute_result"
    }
   ],
   "source": [
    "df['B'] # Selects a single column"
   ]
  },
  {
   "cell_type": "code",
   "execution_count": 18,
   "metadata": {},
   "outputs": [
    {
     "data": {
      "text/plain": [
       "A    0.950872\n",
       "B    0.195057\n",
       "C    0.502037\n",
       "D    0.385458\n",
       "Name: 2020-01-04, dtype: float64"
      ]
     },
     "execution_count": 18,
     "metadata": {},
     "output_type": "execute_result"
    }
   ],
   "source": [
    "df.loc['2020-01-04'] # Selects a specific row by label"
   ]
  },
  {
   "cell_type": "code",
   "execution_count": 19,
   "metadata": {},
   "outputs": [
    {
     "data": {
      "text/html": [
       "<div>\n",
       "<style scoped>\n",
       "    .dataframe tbody tr th:only-of-type {\n",
       "        vertical-align: middle;\n",
       "    }\n",
       "\n",
       "    .dataframe tbody tr th {\n",
       "        vertical-align: top;\n",
       "    }\n",
       "\n",
       "    .dataframe thead th {\n",
       "        text-align: right;\n",
       "    }\n",
       "</style>\n",
       "<table border=\"1\" class=\"dataframe\">\n",
       "  <thead>\n",
       "    <tr style=\"text-align: right;\">\n",
       "      <th></th>\n",
       "      <th>A</th>\n",
       "      <th>B</th>\n",
       "      <th>C</th>\n",
       "      <th>D</th>\n",
       "    </tr>\n",
       "  </thead>\n",
       "  <tbody>\n",
       "    <tr>\n",
       "      <td>2020-01-02</td>\n",
       "      <td>0.182972</td>\n",
       "      <td>0.215921</td>\n",
       "      <td>0.166322</td>\n",
       "      <td>0.802237</td>\n",
       "    </tr>\n",
       "    <tr>\n",
       "      <td>2020-01-03</td>\n",
       "      <td>0.303237</td>\n",
       "      <td>0.931649</td>\n",
       "      <td>0.501601</td>\n",
       "      <td>0.745175</td>\n",
       "    </tr>\n",
       "    <tr>\n",
       "      <td>2020-01-04</td>\n",
       "      <td>0.950872</td>\n",
       "      <td>0.195057</td>\n",
       "      <td>0.502037</td>\n",
       "      <td>0.385458</td>\n",
       "    </tr>\n",
       "  </tbody>\n",
       "</table>\n",
       "</div>"
      ],
      "text/plain": [
       "                   A         B         C         D\n",
       "2020-01-02  0.182972  0.215921  0.166322  0.802237\n",
       "2020-01-03  0.303237  0.931649  0.501601  0.745175\n",
       "2020-01-04  0.950872  0.195057  0.502037  0.385458"
      ]
     },
     "execution_count": 19,
     "metadata": {},
     "output_type": "execute_result"
    }
   ],
   "source": [
    "df[1:4] # Slices the dataframe by rows using default index values. Note the last index number in the selected range is excluded."
   ]
  },
  {
   "cell_type": "code",
   "execution_count": 20,
   "metadata": {},
   "outputs": [
    {
     "data": {
      "text/html": [
       "<div>\n",
       "<style scoped>\n",
       "    .dataframe tbody tr th:only-of-type {\n",
       "        vertical-align: middle;\n",
       "    }\n",
       "\n",
       "    .dataframe tbody tr th {\n",
       "        vertical-align: top;\n",
       "    }\n",
       "\n",
       "    .dataframe thead th {\n",
       "        text-align: right;\n",
       "    }\n",
       "</style>\n",
       "<table border=\"1\" class=\"dataframe\">\n",
       "  <thead>\n",
       "    <tr style=\"text-align: right;\">\n",
       "      <th></th>\n",
       "      <th>A</th>\n",
       "      <th>B</th>\n",
       "      <th>C</th>\n",
       "      <th>D</th>\n",
       "    </tr>\n",
       "  </thead>\n",
       "  <tbody>\n",
       "    <tr>\n",
       "      <td>2020-01-04</td>\n",
       "      <td>0.950872</td>\n",
       "      <td>0.195057</td>\n",
       "      <td>0.502037</td>\n",
       "      <td>0.385458</td>\n",
       "    </tr>\n",
       "    <tr>\n",
       "      <td>2020-01-05</td>\n",
       "      <td>0.906612</td>\n",
       "      <td>0.378598</td>\n",
       "      <td>0.464616</td>\n",
       "      <td>0.079381</td>\n",
       "    </tr>\n",
       "    <tr>\n",
       "      <td>2020-01-06</td>\n",
       "      <td>0.850510</td>\n",
       "      <td>0.538369</td>\n",
       "      <td>0.260067</td>\n",
       "      <td>0.701925</td>\n",
       "    </tr>\n",
       "  </tbody>\n",
       "</table>\n",
       "</div>"
      ],
      "text/plain": [
       "                   A         B         C         D\n",
       "2020-01-04  0.950872  0.195057  0.502037  0.385458\n",
       "2020-01-05  0.906612  0.378598  0.464616  0.079381\n",
       "2020-01-06  0.850510  0.538369  0.260067  0.701925"
      ]
     },
     "execution_count": 20,
     "metadata": {},
     "output_type": "execute_result"
    }
   ],
   "source": [
    "df[df['A'] > 0.5] # Boolean indexing based on a condition. df.A refers to column A"
   ]
  },
  {
   "cell_type": "code",
   "execution_count": 22,
   "metadata": {},
   "outputs": [
    {
     "data": {
      "text/html": [
       "<div>\n",
       "<style scoped>\n",
       "    .dataframe tbody tr th:only-of-type {\n",
       "        vertical-align: middle;\n",
       "    }\n",
       "\n",
       "    .dataframe tbody tr th {\n",
       "        vertical-align: top;\n",
       "    }\n",
       "\n",
       "    .dataframe thead th {\n",
       "        text-align: right;\n",
       "    }\n",
       "</style>\n",
       "<table border=\"1\" class=\"dataframe\">\n",
       "  <thead>\n",
       "    <tr style=\"text-align: right;\">\n",
       "      <th></th>\n",
       "      <th>A</th>\n",
       "      <th>B</th>\n",
       "      <th>C</th>\n",
       "      <th>D</th>\n",
       "      <th>E</th>\n",
       "    </tr>\n",
       "  </thead>\n",
       "  <tbody>\n",
       "    <tr>\n",
       "      <td>2020-01-01</td>\n",
       "      <td>0.498212</td>\n",
       "      <td>0.518362</td>\n",
       "      <td>0.876656</td>\n",
       "      <td>0.146170</td>\n",
       "      <td>one</td>\n",
       "    </tr>\n",
       "    <tr>\n",
       "      <td>2020-01-02</td>\n",
       "      <td>0.182972</td>\n",
       "      <td>0.215921</td>\n",
       "      <td>0.166322</td>\n",
       "      <td>0.802237</td>\n",
       "      <td>one</td>\n",
       "    </tr>\n",
       "    <tr>\n",
       "      <td>2020-01-03</td>\n",
       "      <td>0.303237</td>\n",
       "      <td>0.931649</td>\n",
       "      <td>0.501601</td>\n",
       "      <td>0.745175</td>\n",
       "      <td>two</td>\n",
       "    </tr>\n",
       "    <tr>\n",
       "      <td>2020-01-04</td>\n",
       "      <td>0.950872</td>\n",
       "      <td>0.195057</td>\n",
       "      <td>0.502037</td>\n",
       "      <td>0.385458</td>\n",
       "      <td>three</td>\n",
       "    </tr>\n",
       "    <tr>\n",
       "      <td>2020-01-05</td>\n",
       "      <td>0.906612</td>\n",
       "      <td>0.378598</td>\n",
       "      <td>0.464616</td>\n",
       "      <td>0.079381</td>\n",
       "      <td>four</td>\n",
       "    </tr>\n",
       "    <tr>\n",
       "      <td>2020-01-06</td>\n",
       "      <td>0.850510</td>\n",
       "      <td>0.538369</td>\n",
       "      <td>0.260067</td>\n",
       "      <td>0.701925</td>\n",
       "      <td>three</td>\n",
       "    </tr>\n",
       "  </tbody>\n",
       "</table>\n",
       "</div>"
      ],
      "text/plain": [
       "                   A         B         C         D      E\n",
       "2020-01-01  0.498212  0.518362  0.876656  0.146170    one\n",
       "2020-01-02  0.182972  0.215921  0.166322  0.802237    one\n",
       "2020-01-03  0.303237  0.931649  0.501601  0.745175    two\n",
       "2020-01-04  0.950872  0.195057  0.502037  0.385458  three\n",
       "2020-01-05  0.906612  0.378598  0.464616  0.079381   four\n",
       "2020-01-06  0.850510  0.538369  0.260067  0.701925  three"
      ]
     },
     "execution_count": 22,
     "metadata": {},
     "output_type": "execute_result"
    }
   ],
   "source": [
    "# Create a copy of the original df\n",
    "df2 = df.copy()\n",
    "\n",
    "# Add a new 'E' column\n",
    "df2['E'] = ['one', 'one', 'two', 'three', 'four', 'three']\n",
    "\n",
    "# Print out this new df2\n",
    "df2"
   ]
  },
  {
   "cell_type": "markdown",
   "metadata": {},
   "source": [
    "Note - we can mix and match the data types in our DataFrame (floats and strings in this case) and Python will still know how to handle this if we want to say sum across our columns again:"
   ]
  },
  {
   "cell_type": "code",
   "execution_count": 91,
   "metadata": {},
   "outputs": [
    {
     "data": {
      "text/plain": [
       "date\n",
       "2016-02-16    1.0\n",
       "2016-02-17    1.0\n",
       "2016-02-18    1.0\n",
       "2016-02-19    1.0\n",
       "dtype: float64"
      ]
     },
     "execution_count": 91,
     "metadata": {},
     "output_type": "execute_result"
    }
   ],
   "source": [
    "df2.sum(axis=1)"
   ]
  },
  {
   "cell_type": "markdown",
   "metadata": {},
   "source": [
    "Finally, here's how we can add multiple DataFrame's together with different row labels but the same column labels:"
   ]
  },
  {
   "cell_type": "code",
   "execution_count": 94,
   "metadata": {},
   "outputs": [
    {
     "data": {
      "text/html": [
       "<div>\n",
       "<style scoped>\n",
       "    .dataframe tbody tr th:only-of-type {\n",
       "        vertical-align: middle;\n",
       "    }\n",
       "\n",
       "    .dataframe tbody tr th {\n",
       "        vertical-align: top;\n",
       "    }\n",
       "\n",
       "    .dataframe thead th {\n",
       "        text-align: right;\n",
       "    }\n",
       "</style>\n",
       "<table border=\"1\" class=\"dataframe\">\n",
       "  <thead>\n",
       "    <tr style=\"text-align: right;\">\n",
       "      <th></th>\n",
       "      <th>A</th>\n",
       "      <th>B</th>\n",
       "    </tr>\n",
       "  </thead>\n",
       "  <tbody>\n",
       "    <tr>\n",
       "      <td>0</td>\n",
       "      <td>1</td>\n",
       "      <td>2</td>\n",
       "    </tr>\n",
       "    <tr>\n",
       "      <td>1</td>\n",
       "      <td>3</td>\n",
       "      <td>4</td>\n",
       "    </tr>\n",
       "  </tbody>\n",
       "</table>\n",
       "</div>"
      ],
      "text/plain": [
       "   A  B\n",
       "0  1  2\n",
       "1  3  4"
      ]
     },
     "execution_count": 94,
     "metadata": {},
     "output_type": "execute_result"
    }
   ],
   "source": [
    "df1 = pd.DataFrame([[1, 2], [3, 4]], index=[0,1], columns=['A', 'B'])\n",
    "\n",
    "df1"
   ]
  },
  {
   "cell_type": "code",
   "execution_count": 95,
   "metadata": {},
   "outputs": [
    {
     "data": {
      "text/html": [
       "<div>\n",
       "<style scoped>\n",
       "    .dataframe tbody tr th:only-of-type {\n",
       "        vertical-align: middle;\n",
       "    }\n",
       "\n",
       "    .dataframe tbody tr th {\n",
       "        vertical-align: top;\n",
       "    }\n",
       "\n",
       "    .dataframe thead th {\n",
       "        text-align: right;\n",
       "    }\n",
       "</style>\n",
       "<table border=\"1\" class=\"dataframe\">\n",
       "  <thead>\n",
       "    <tr style=\"text-align: right;\">\n",
       "      <th></th>\n",
       "      <th>A</th>\n",
       "      <th>B</th>\n",
       "    </tr>\n",
       "  </thead>\n",
       "  <tbody>\n",
       "    <tr>\n",
       "      <td>0</td>\n",
       "      <td>1</td>\n",
       "      <td>2</td>\n",
       "    </tr>\n",
       "    <tr>\n",
       "      <td>1</td>\n",
       "      <td>3</td>\n",
       "      <td>4</td>\n",
       "    </tr>\n",
       "    <tr>\n",
       "      <td>2</td>\n",
       "      <td>5</td>\n",
       "      <td>6</td>\n",
       "    </tr>\n",
       "    <tr>\n",
       "      <td>3</td>\n",
       "      <td>7</td>\n",
       "      <td>8</td>\n",
       "    </tr>\n",
       "  </tbody>\n",
       "</table>\n",
       "</div>"
      ],
      "text/plain": [
       "   A  B\n",
       "0  1  2\n",
       "1  3  4\n",
       "2  5  6\n",
       "3  7  8"
      ]
     },
     "execution_count": 95,
     "metadata": {},
     "output_type": "execute_result"
    }
   ],
   "source": [
    "df2 = pd.DataFrame([[5, 6], [7, 8]], index=[2,3], columns=['A', 'B'])\n",
    "\n",
    "df1.append(df2)"
   ]
  },
  {
   "cell_type": "markdown",
   "metadata": {},
   "source": [
    "Now let us quickly look at a basic Python plotting library to create charts from our data. **Matplotlib** is an easy-to-use but powerful plotting library.\n",
    "\n",
    "## Introduction to Matplotlib\n",
    "\n",
    "For a detailed tutorial on Matplotlib, see: https://matplotlib.org/3.1.1/tutorials/introductory/pyplot.html\n",
    "\n",
    "Here are some examples of the basics with Matplotlib:\n",
    "\n",
    "By convention, we import Matplotlib as `plt` as follows:"
   ]
  },
  {
   "cell_type": "code",
   "execution_count": 25,
   "metadata": {},
   "outputs": [],
   "source": [
    "import matplotlib.pyplot as plt"
   ]
  },
  {
   "cell_type": "markdown",
   "metadata": {},
   "source": [
    "The `plt` object has a `plot()` method which uses the convention: \n",
    "\n",
    "`plt.plot(<x-axis data>, <y-axis data>, <plot style>)`.\n",
    "\n",
    "For every x, y pair of arguments, there is an optional third argument which is the format string that indicates the color and line type of the plot. The default format string is 'b-', which is a solid blue line. For example, to plot with red circles, you would issue `'ro'`\n",
    "\n",
    "Let's look at a couple examples:"
   ]
  },
  {
   "cell_type": "code",
   "execution_count": 26,
   "metadata": {},
   "outputs": [
    {
     "data": {
      "image/png": "[encoded data removed]",
      "text/plain": [
       "<Figure size 432x288 with 1 Axes>"
      ]
     },
     "metadata": {
      "needs_background": "light"
     },
     "output_type": "display_data"
    }
   ],
   "source": [
    "# Define our plot with plot(x-data, y-data, style)\n",
    "plt.plot([1, 2, 3, 4], [1, 4, 9, 16], 'ro')\n",
    "\n",
    "# Now set the axis range using the format: plt.axis([xmin, xmax, ymin, ymax])\n",
    "plt.axis([0, 6, 0, 20])\n",
    "\n",
    "# To actually show the plot, we use the .show() method\n",
    "plt.show()"
   ]
  },
  {
   "cell_type": "code",
   "execution_count": 31,
   "metadata": {},
   "outputs": [
    {
     "data": {
      "image/png": "[encoded data removed]",
      "text/plain": [
       "<Figure size 720x360 with 1 Axes>"
      ]
     },
     "metadata": {
      "needs_background": "light"
     },
     "output_type": "display_data"
    }
   ],
   "source": [
    "# Plotting multiple series on the same plot:\n",
    "\n",
    "# Here is our sample data - just a list of floats\n",
    "t = np.array([0.,0.2,0.4,0.6,0.8,1.,1.2,1.4,1.6,1.8,2.,2.2,2.4,2.6,2.8,3.,3.2,3.4,3.6,3.8,4.,4.2,4.4,4.6,4.8])\n",
    "\n",
    "# Define the figure size\n",
    "plt.figure(figsize=(10, 5))\n",
    "\n",
    "# First plot - t vs t using red dashes\n",
    "plt.plot(t,t,'r--')\n",
    "\n",
    "# Second plot - t vs t^2 using blue squares\n",
    "plt.plot(t,t**2, 'bs')\n",
    "\n",
    "# Third plot - t vs t^3 using green arrows\n",
    "plt.plot(t,t**3, 'g^')\n",
    "\n",
    "# X and Y labels for the plot\n",
    "plt.xlabel('my x data')\n",
    "plt.ylabel('my y data')\n",
    "\n",
    "# Main plot title\n",
    "plt.suptitle('My beautiful graph')\n",
    "\n",
    "# Display the plot\n",
    "plt.show()"
   ]
  },
  {
   "cell_type": "markdown",
   "metadata": {},
   "source": [
    "## Analysing Stock Ticker Data\n",
    "\n",
    "Now that we have some of the Python data manipulation and plotting fundamentals down, let us start to analyze timeseries financial data.\n",
    "\n",
    "### Setting up Investor Exchange Account (optional)\n",
    "\n",
    "We will use a CSV spreadsheet, which contains our stock ticker data, in this workshop. \n",
    "\n",
    "You can, however, also use Investors Exchange (IEX) at https://iexcloud.io/ which offers a free web-based API to access financial data such as historical and current stock ticker information. \n",
    "\n",
    "You will need to setup an account (which requires an email validation) in order to obtain an API Key which we will use in our Python code.\n",
    "\n",
    "Sign-up Process:\n",
    "* When you sign-up, you will receive an email with the subject `IEX Cloud Email Verification`\n",
    "* Verify your email and then click on the link provided under: `To get access to your API keys, go to the link below` . This will log you back into the IEX console.\n",
    "* Then in the left-hand menu, click on `API Tokens`\n",
    "* Your API token will be the `Publishable` type"
   ]
  },
  {
   "cell_type": "markdown",
   "metadata": {},
   "source": [
    "### Python Requirements\n",
    "\n",
    "In order to use IEX, we will need to install the following Python package: \n",
    "* pandas-datareader"
   ]
  },
  {
   "cell_type": "code",
   "execution_count": 32,
   "metadata": {},
   "outputs": [
    {
     "name": "stdout",
     "output_type": "stream",
     "text": [
      "Requirement already satisfied: pandas-datareader in /opt/anaconda3/lib/python3.7/site-packages (0.8.1)\n",
      "Requirement already satisfied: lxml in /opt/anaconda3/lib/python3.7/site-packages (from pandas-datareader) (4.4.1)\n",
      "Requirement already satisfied: pandas>=0.21 in /opt/anaconda3/lib/python3.7/site-packages (from pandas-datareader) (0.25.1)\n",
      "Requirement already satisfied: requests>=2.3.0 in /opt/anaconda3/lib/python3.7/site-packages (from pandas-datareader) (2.22.0)\n",
      "Requirement already satisfied: python-dateutil>=2.6.1 in /opt/anaconda3/lib/python3.7/site-packages (from pandas>=0.21->pandas-datareader) (2.8.0)\n",
      "Requirement already satisfied: numpy>=1.13.3 in /opt/anaconda3/lib/python3.7/site-packages (from pandas>=0.21->pandas-datareader) (1.17.2)\n",
      "Requirement already satisfied: pytz>=2017.2 in /opt/anaconda3/lib/python3.7/site-packages (from pandas>=0.21->pandas-datareader) (2019.3)\n",
      "Requirement already satisfied: certifi>=2017.4.17 in /opt/anaconda3/lib/python3.7/site-packages (from requests>=2.3.0->pandas-datareader) (2019.9.11)\n",
      "Requirement already satisfied: idna<2.9,>=2.5 in /opt/anaconda3/lib/python3.7/site-packages (from requests>=2.3.0->pandas-datareader) (2.8)\n",
      "Requirement already satisfied: urllib3!=1.25.0,!=1.25.1,<1.26,>=1.21.1 in /opt/anaconda3/lib/python3.7/site-packages (from requests>=2.3.0->pandas-datareader) (1.24.2)\n",
      "Requirement already satisfied: chardet<3.1.0,>=3.0.2 in /opt/anaconda3/lib/python3.7/site-packages (from requests>=2.3.0->pandas-datareader) (3.0.4)\n",
      "Requirement already satisfied: six>=1.5 in /opt/anaconda3/lib/python3.7/site-packages (from python-dateutil>=2.6.1->pandas>=0.21->pandas-datareader) (1.12.0)\n",
      "Note: you may need to restart the kernel to use updated packages.\n"
     ]
    }
   ],
   "source": [
    "pip install pandas-datareader"
   ]
  },
  {
   "cell_type": "markdown",
   "metadata": {},
   "source": [
    "### Pulling in stock ticker data\n",
    "First, we import the following packages:"
   ]
  },
  {
   "cell_type": "code",
   "execution_count": 3,
   "metadata": {},
   "outputs": [],
   "source": [
    "from pandas import DataFrame\n",
    "from pandas_datareader import data\n",
    "import matplotlib.pyplot as plt\n",
    "import numpy as np\n",
    "import pandas as pd\n",
    "import os"
   ]
  },
  {
   "cell_type": "markdown",
   "metadata": {},
   "source": [
    "Then we will set our IEX API KEY to the environment variable \"IEX_API_KEY\".\n",
    "\n",
    "Copy your API Token public key from the IEX console and paste it as follows:"
   ]
  },
  {
   "cell_type": "code",
   "execution_count": 59,
   "metadata": {},
   "outputs": [],
   "source": [
    "os.environ[\"IEX_API_KEY\"] = \"pk_e1813c97b3eb44838466709f640403b9\""
   ]
  },
  {
   "cell_type": "markdown",
   "metadata": {},
   "source": [
    "With your free account, you are limited to just 50,000 *core messages* or simply data points going back 5 years from today. That is not a lot of data! \n",
    "\n",
    "It is recommended you start by creating a small **list of tickers** to analyze and then scale up.\n",
    "\n",
    "A full list of eligible stock tickers can be found here: https://iextrading.com/trading/eligible-symbols/\n",
    "\n",
    "We will pull and look at data for the following 3 Exchange Traded Funds (ETF) stock tickers representing two different industry sectors:\n",
    "\n",
    "IAU - Gold Trust\n",
    "IXN - Global Tech"
   ]
  },
  {
   "cell_type": "code",
   "execution_count": 60,
   "metadata": {},
   "outputs": [],
   "source": [
    "tickers = ['IAU','IXN']\n",
    "\n",
    "start_date = '2015-02-01'\n",
    "end_date = '2020-02-01'"
   ]
  },
  {
   "cell_type": "markdown",
   "metadata": {},
   "source": [
    "Now we pull in the ticker data with pandas's `datareader` with:"
   ]
  },
  {
   "cell_type": "code",
   "execution_count": 67,
   "metadata": {},
   "outputs": [
    {
     "ename": "RemoteDataError",
     "evalue": "Unable to read URL: https://cloud.iexapis.com/stable/stock/market/batch?symbols=IAU%2CIXN&types=chart&range=max&token=pk_e1813c97b3eb44838466709f640403b9\nResponse Text:\nb'You have exceeded your allotted message quota. Please enable pay-as-you-go to regain access'",
     "output_type": "error",
     "traceback": [
      "\u001b[0;31m---------------------------------------------------------------------------\u001b[0m",
      "\u001b[0;31mRemoteDataError\u001b[0m                           Traceback (most recent call last)",
      "\u001b[0;32m<ipython-input-67-a05be01c1372>\u001b[0m in \u001b[0;36m<module>\u001b[0;34m\u001b[0m\n\u001b[0;32m----> 1\u001b[0;31m \u001b[0mstock_data\u001b[0m \u001b[0;34m=\u001b[0m \u001b[0mdata\u001b[0m\u001b[0;34m.\u001b[0m\u001b[0mDataReader\u001b[0m\u001b[0;34m(\u001b[0m\u001b[0mtickers\u001b[0m\u001b[0;34m,\u001b[0m \u001b[0;34m'iex'\u001b[0m\u001b[0;34m,\u001b[0m \u001b[0mstart_date\u001b[0m\u001b[0;34m,\u001b[0m \u001b[0mend_date\u001b[0m\u001b[0;34m)\u001b[0m\u001b[0;34m\u001b[0m\u001b[0;34m\u001b[0m\u001b[0m\n\u001b[0m",
      "\u001b[0;32m/opt/anaconda3/lib/python3.7/site-packages/pandas/util/_decorators.py\u001b[0m in \u001b[0;36mwrapper\u001b[0;34m(*args, **kwargs)\u001b[0m\n\u001b[1;32m    206\u001b[0m                 \u001b[0;32melse\u001b[0m\u001b[0;34m:\u001b[0m\u001b[0;34m\u001b[0m\u001b[0;34m\u001b[0m\u001b[0m\n\u001b[1;32m    207\u001b[0m                     \u001b[0mkwargs\u001b[0m\u001b[0;34m[\u001b[0m\u001b[0mnew_arg_name\u001b[0m\u001b[0;34m]\u001b[0m \u001b[0;34m=\u001b[0m \u001b[0mnew_arg_value\u001b[0m\u001b[0;34m\u001b[0m\u001b[0;34m\u001b[0m\u001b[0m\n\u001b[0;32m--> 208\u001b[0;31m             \u001b[0;32mreturn\u001b[0m \u001b[0mfunc\u001b[0m\u001b[0;34m(\u001b[0m\u001b[0;34m*\u001b[0m\u001b[0margs\u001b[0m\u001b[0;34m,\u001b[0m \u001b[0;34m**\u001b[0m\u001b[0mkwargs\u001b[0m\u001b[0;34m)\u001b[0m\u001b[0;34m\u001b[0m\u001b[0;34m\u001b[0m\u001b[0m\n\u001b[0m\u001b[1;32m    209\u001b[0m \u001b[0;34m\u001b[0m\u001b[0m\n\u001b[1;32m    210\u001b[0m         \u001b[0;32mreturn\u001b[0m \u001b[0mwrapper\u001b[0m\u001b[0;34m\u001b[0m\u001b[0;34m\u001b[0m\u001b[0m\n",
      "\u001b[0;32m/opt/anaconda3/lib/python3.7/site-packages/pandas_datareader/data.py\u001b[0m in \u001b[0;36mDataReader\u001b[0;34m(name, data_source, start, end, retry_count, pause, session, api_key)\u001b[0m\n\u001b[1;32m    397\u001b[0m             \u001b[0mretry_count\u001b[0m\u001b[0;34m=\u001b[0m\u001b[0mretry_count\u001b[0m\u001b[0;34m,\u001b[0m\u001b[0;34m\u001b[0m\u001b[0;34m\u001b[0m\u001b[0m\n\u001b[1;32m    398\u001b[0m             \u001b[0mpause\u001b[0m\u001b[0;34m=\u001b[0m\u001b[0mpause\u001b[0m\u001b[0;34m,\u001b[0m\u001b[0;34m\u001b[0m\u001b[0;34m\u001b[0m\u001b[0m\n\u001b[0;32m--> 399\u001b[0;31m             \u001b[0msession\u001b[0m\u001b[0;34m=\u001b[0m\u001b[0msession\u001b[0m\u001b[0;34m,\u001b[0m\u001b[0;34m\u001b[0m\u001b[0;34m\u001b[0m\u001b[0m\n\u001b[0m\u001b[1;32m    400\u001b[0m         ).read()\n\u001b[1;32m    401\u001b[0m \u001b[0;34m\u001b[0m\u001b[0m\n",
      "\u001b[0;32m/opt/anaconda3/lib/python3.7/site-packages/pandas_datareader/iex/daily.py\u001b[0m in \u001b[0;36mread\u001b[0;34m(self)\u001b[0m\n\u001b[1;32m    141\u001b[0m         \u001b[0;34m\"\"\"Read data\"\"\"\u001b[0m\u001b[0;34m\u001b[0m\u001b[0;34m\u001b[0m\u001b[0m\n\u001b[1;32m    142\u001b[0m         \u001b[0;32mtry\u001b[0m\u001b[0;34m:\u001b[0m\u001b[0;34m\u001b[0m\u001b[0;34m\u001b[0m\u001b[0m\n\u001b[0;32m--> 143\u001b[0;31m             \u001b[0;32mreturn\u001b[0m \u001b[0mself\u001b[0m\u001b[0;34m.\u001b[0m\u001b[0m_read_one_data\u001b[0m\u001b[0;34m(\u001b[0m\u001b[0mself\u001b[0m\u001b[0;34m.\u001b[0m\u001b[0murl\u001b[0m\u001b[0;34m,\u001b[0m \u001b[0mself\u001b[0m\u001b[0;34m.\u001b[0m\u001b[0m_get_params\u001b[0m\u001b[0;34m(\u001b[0m\u001b[0mself\u001b[0m\u001b[0;34m.\u001b[0m\u001b[0msymbols\u001b[0m\u001b[0;34m)\u001b[0m\u001b[0;34m)\u001b[0m\u001b[0;34m\u001b[0m\u001b[0;34m\u001b[0m\u001b[0m\n\u001b[0m\u001b[1;32m    144\u001b[0m         \u001b[0;32mfinally\u001b[0m\u001b[0;34m:\u001b[0m\u001b[0;34m\u001b[0m\u001b[0;34m\u001b[0m\u001b[0m\n\u001b[1;32m    145\u001b[0m             \u001b[0mself\u001b[0m\u001b[0;34m.\u001b[0m\u001b[0mclose\u001b[0m\u001b[0;34m(\u001b[0m\u001b[0;34m)\u001b[0m\u001b[0;34m\u001b[0m\u001b[0;34m\u001b[0m\u001b[0m\n",
      "\u001b[0;32m/opt/anaconda3/lib/python3.7/site-packages/pandas_datareader/base.py\u001b[0m in \u001b[0;36m_read_one_data\u001b[0;34m(self, url, params)\u001b[0m\n\u001b[1;32m    105\u001b[0m         \u001b[0;34m\"\"\" read one data from specified URL \"\"\"\u001b[0m\u001b[0;34m\u001b[0m\u001b[0;34m\u001b[0m\u001b[0m\n\u001b[1;32m    106\u001b[0m         \u001b[0;32mif\u001b[0m \u001b[0mself\u001b[0m\u001b[0;34m.\u001b[0m\u001b[0m_format\u001b[0m \u001b[0;34m==\u001b[0m \u001b[0;34m\"string\"\u001b[0m\u001b[0;34m:\u001b[0m\u001b[0;34m\u001b[0m\u001b[0;34m\u001b[0m\u001b[0m\n\u001b[0;32m--> 107\u001b[0;31m             \u001b[0mout\u001b[0m \u001b[0;34m=\u001b[0m \u001b[0mself\u001b[0m\u001b[0;34m.\u001b[0m\u001b[0m_read_url_as_StringIO\u001b[0m\u001b[0;34m(\u001b[0m\u001b[0murl\u001b[0m\u001b[0;34m,\u001b[0m \u001b[0mparams\u001b[0m\u001b[0;34m=\u001b[0m\u001b[0mparams\u001b[0m\u001b[0;34m)\u001b[0m\u001b[0;34m\u001b[0m\u001b[0;34m\u001b[0m\u001b[0m\n\u001b[0m\u001b[1;32m    108\u001b[0m         \u001b[0;32melif\u001b[0m \u001b[0mself\u001b[0m\u001b[0;34m.\u001b[0m\u001b[0m_format\u001b[0m \u001b[0;34m==\u001b[0m \u001b[0;34m\"json\"\u001b[0m\u001b[0;34m:\u001b[0m\u001b[0;34m\u001b[0m\u001b[0;34m\u001b[0m\u001b[0m\n\u001b[1;32m    109\u001b[0m             \u001b[0mout\u001b[0m \u001b[0;34m=\u001b[0m \u001b[0mself\u001b[0m\u001b[0;34m.\u001b[0m\u001b[0m_get_response\u001b[0m\u001b[0;34m(\u001b[0m\u001b[0murl\u001b[0m\u001b[0;34m,\u001b[0m \u001b[0mparams\u001b[0m\u001b[0;34m=\u001b[0m\u001b[0mparams\u001b[0m\u001b[0;34m)\u001b[0m\u001b[0;34m.\u001b[0m\u001b[0mjson\u001b[0m\u001b[0;34m(\u001b[0m\u001b[0;34m)\u001b[0m\u001b[0;34m\u001b[0m\u001b[0;34m\u001b[0m\u001b[0m\n",
      "\u001b[0;32m/opt/anaconda3/lib/python3.7/site-packages/pandas_datareader/base.py\u001b[0m in \u001b[0;36m_read_url_as_StringIO\u001b[0;34m(self, url, params)\u001b[0m\n\u001b[1;32m    116\u001b[0m         \u001b[0mOpen\u001b[0m \u001b[0murl\u001b[0m \u001b[0;34m(\u001b[0m\u001b[0;32mand\u001b[0m \u001b[0mretry\u001b[0m\u001b[0;34m)\u001b[0m\u001b[0;34m\u001b[0m\u001b[0;34m\u001b[0m\u001b[0m\n\u001b[1;32m    117\u001b[0m         \"\"\"\n\u001b[0;32m--> 118\u001b[0;31m         \u001b[0mresponse\u001b[0m \u001b[0;34m=\u001b[0m \u001b[0mself\u001b[0m\u001b[0;34m.\u001b[0m\u001b[0m_get_response\u001b[0m\u001b[0;34m(\u001b[0m\u001b[0murl\u001b[0m\u001b[0;34m,\u001b[0m \u001b[0mparams\u001b[0m\u001b[0;34m=\u001b[0m\u001b[0mparams\u001b[0m\u001b[0;34m)\u001b[0m\u001b[0;34m\u001b[0m\u001b[0;34m\u001b[0m\u001b[0m\n\u001b[0m\u001b[1;32m    119\u001b[0m         \u001b[0mtext\u001b[0m \u001b[0;34m=\u001b[0m \u001b[0mself\u001b[0m\u001b[0;34m.\u001b[0m\u001b[0m_sanitize_response\u001b[0m\u001b[0;34m(\u001b[0m\u001b[0mresponse\u001b[0m\u001b[0;34m)\u001b[0m\u001b[0;34m\u001b[0m\u001b[0;34m\u001b[0m\u001b[0m\n\u001b[1;32m    120\u001b[0m         \u001b[0mout\u001b[0m \u001b[0;34m=\u001b[0m \u001b[0mStringIO\u001b[0m\u001b[0;34m(\u001b[0m\u001b[0;34m)\u001b[0m\u001b[0;34m\u001b[0m\u001b[0;34m\u001b[0m\u001b[0m\n",
      "\u001b[0;32m/opt/anaconda3/lib/python3.7/site-packages/pandas_datareader/base.py\u001b[0m in \u001b[0;36m_get_response\u001b[0;34m(self, url, params, headers)\u001b[0m\n\u001b[1;32m    177\u001b[0m             \u001b[0mmsg\u001b[0m \u001b[0;34m+=\u001b[0m \u001b[0;34m\"\\nResponse Text:\\n{0}\"\u001b[0m\u001b[0;34m.\u001b[0m\u001b[0mformat\u001b[0m\u001b[0;34m(\u001b[0m\u001b[0mlast_response_text\u001b[0m\u001b[0;34m)\u001b[0m\u001b[0;34m\u001b[0m\u001b[0;34m\u001b[0m\u001b[0m\n\u001b[1;32m    178\u001b[0m \u001b[0;34m\u001b[0m\u001b[0m\n\u001b[0;32m--> 179\u001b[0;31m         \u001b[0;32mraise\u001b[0m \u001b[0mRemoteDataError\u001b[0m\u001b[0;34m(\u001b[0m\u001b[0mmsg\u001b[0m\u001b[0;34m)\u001b[0m\u001b[0;34m\u001b[0m\u001b[0;34m\u001b[0m\u001b[0m\n\u001b[0m\u001b[1;32m    180\u001b[0m \u001b[0;34m\u001b[0m\u001b[0m\n\u001b[1;32m    181\u001b[0m     \u001b[0;32mdef\u001b[0m \u001b[0m_get_crumb\u001b[0m\u001b[0;34m(\u001b[0m\u001b[0mself\u001b[0m\u001b[0;34m,\u001b[0m \u001b[0;34m*\u001b[0m\u001b[0margs\u001b[0m\u001b[0;34m)\u001b[0m\u001b[0;34m:\u001b[0m\u001b[0;34m\u001b[0m\u001b[0;34m\u001b[0m\u001b[0m\n",
      "\u001b[0;31mRemoteDataError\u001b[0m: Unable to read URL: https://cloud.iexapis.com/stable/stock/market/batch?symbols=IAU%2CIXN&types=chart&range=max&token=pk_e1813c97b3eb44838466709f640403b9\nResponse Text:\nb'You have exceeded your allotted message quota. Please enable pay-as-you-go to regain access'"
     ]
    }
   ],
   "source": [
    "stock_data = data.DataReader(tickers, 'iex', start_date, end_date)"
   ]
  },
  {
   "cell_type": "markdown",
   "metadata": {},
   "source": [
    "Note - if your IEX import fails, it might be due to your API credits being exhausted, in which case you can sign up for a new free trial account or purchase a higher tier account with more credits. You can see the **Message Use** on your IEX Console dashboard.\n",
    "\n",
    "We will move forward without using the IEX API by pulling in our data from a CSV spreadsheet by doing the following:\n",
    "\n",
    "1. Upload the `stock_data.csv` file you downloaded before to the Jupyter server.\n",
    "\n",
    "1. Import the `stock_data.csv` file as follows:"
   ]
  },
  {
   "cell_type": "code",
   "execution_count": 4,
   "metadata": {},
   "outputs": [],
   "source": [
    "stock_data = pd.read_csv('stock_data.csv', header=[0,1], index_col=0)"
   ]
  },
  {
   "cell_type": "markdown",
   "metadata": {},
   "source": [
    "And now let us call the `stock_data` variable to see the data it holds:"
   ]
  },
  {
   "cell_type": "code",
   "execution_count": 5,
   "metadata": {},
   "outputs": [
    {
     "data": {
      "text/html": [
       "<div>\n",
       "<style scoped>\n",
       "    .dataframe tbody tr th:only-of-type {\n",
       "        vertical-align: middle;\n",
       "    }\n",
       "\n",
       "    .dataframe tbody tr th {\n",
       "        vertical-align: top;\n",
       "    }\n",
       "\n",
       "    .dataframe thead tr th {\n",
       "        text-align: left;\n",
       "    }\n",
       "\n",
       "    .dataframe thead tr:last-of-type th {\n",
       "        text-align: right;\n",
       "    }\n",
       "</style>\n",
       "<table border=\"1\" class=\"dataframe\">\n",
       "  <thead>\n",
       "    <tr>\n",
       "      <th>Attributes</th>\n",
       "      <th colspan=\"2\" halign=\"left\">open</th>\n",
       "      <th colspan=\"2\" halign=\"left\">high</th>\n",
       "      <th colspan=\"2\" halign=\"left\">low</th>\n",
       "      <th colspan=\"2\" halign=\"left\">close</th>\n",
       "      <th colspan=\"2\" halign=\"left\">volume</th>\n",
       "    </tr>\n",
       "    <tr>\n",
       "      <th>Symbols</th>\n",
       "      <th>IAU</th>\n",
       "      <th>IXN</th>\n",
       "      <th>IAU</th>\n",
       "      <th>IXN</th>\n",
       "      <th>IAU</th>\n",
       "      <th>IXN</th>\n",
       "      <th>IAU</th>\n",
       "      <th>IXN</th>\n",
       "      <th>IAU</th>\n",
       "      <th>IXN</th>\n",
       "    </tr>\n",
       "    <tr>\n",
       "      <th>date</th>\n",
       "      <th></th>\n",
       "      <th></th>\n",
       "      <th></th>\n",
       "      <th></th>\n",
       "      <th></th>\n",
       "      <th></th>\n",
       "      <th></th>\n",
       "      <th></th>\n",
       "      <th></th>\n",
       "      <th></th>\n",
       "    </tr>\n",
       "  </thead>\n",
       "  <tbody>\n",
       "    <tr>\n",
       "      <td>2015-02-11</td>\n",
       "      <td>11.93</td>\n",
       "      <td>95.29</td>\n",
       "      <td>11.95</td>\n",
       "      <td>95.75</td>\n",
       "      <td>11.78</td>\n",
       "      <td>95.13</td>\n",
       "      <td>11.80</td>\n",
       "      <td>95.62</td>\n",
       "      <td>6974166</td>\n",
       "      <td>22539</td>\n",
       "    </tr>\n",
       "    <tr>\n",
       "      <td>2015-02-12</td>\n",
       "      <td>11.86</td>\n",
       "      <td>96.16</td>\n",
       "      <td>11.87</td>\n",
       "      <td>97.05</td>\n",
       "      <td>11.80</td>\n",
       "      <td>96.16</td>\n",
       "      <td>11.83</td>\n",
       "      <td>96.85</td>\n",
       "      <td>4607893</td>\n",
       "      <td>36788</td>\n",
       "    </tr>\n",
       "    <tr>\n",
       "      <td>2015-02-13</td>\n",
       "      <td>11.89</td>\n",
       "      <td>97.21</td>\n",
       "      <td>11.95</td>\n",
       "      <td>97.76</td>\n",
       "      <td>11.87</td>\n",
       "      <td>97.01</td>\n",
       "      <td>11.89</td>\n",
       "      <td>97.63</td>\n",
       "      <td>2157174</td>\n",
       "      <td>17951</td>\n",
       "    </tr>\n",
       "    <tr>\n",
       "      <td>2015-02-17</td>\n",
       "      <td>11.73</td>\n",
       "      <td>97.55</td>\n",
       "      <td>11.75</td>\n",
       "      <td>97.82</td>\n",
       "      <td>11.64</td>\n",
       "      <td>97.38</td>\n",
       "      <td>11.70</td>\n",
       "      <td>97.74</td>\n",
       "      <td>5601928</td>\n",
       "      <td>21176</td>\n",
       "    </tr>\n",
       "    <tr>\n",
       "      <td>2015-02-18</td>\n",
       "      <td>11.69</td>\n",
       "      <td>97.69</td>\n",
       "      <td>11.73</td>\n",
       "      <td>97.98</td>\n",
       "      <td>11.58</td>\n",
       "      <td>97.51</td>\n",
       "      <td>11.73</td>\n",
       "      <td>97.87</td>\n",
       "      <td>2693559</td>\n",
       "      <td>74402</td>\n",
       "    </tr>\n",
       "    <tr>\n",
       "      <td>...</td>\n",
       "      <td>...</td>\n",
       "      <td>...</td>\n",
       "      <td>...</td>\n",
       "      <td>...</td>\n",
       "      <td>...</td>\n",
       "      <td>...</td>\n",
       "      <td>...</td>\n",
       "      <td>...</td>\n",
       "      <td>...</td>\n",
       "      <td>...</td>\n",
       "    </tr>\n",
       "    <tr>\n",
       "      <td>2020-01-27</td>\n",
       "      <td>15.15</td>\n",
       "      <td>216.78</td>\n",
       "      <td>15.16</td>\n",
       "      <td>218.21</td>\n",
       "      <td>15.07</td>\n",
       "      <td>215.78</td>\n",
       "      <td>15.13</td>\n",
       "      <td>216.68</td>\n",
       "      <td>15052062</td>\n",
       "      <td>135599</td>\n",
       "    </tr>\n",
       "    <tr>\n",
       "      <td>2020-01-28</td>\n",
       "      <td>15.06</td>\n",
       "      <td>218.11</td>\n",
       "      <td>15.08</td>\n",
       "      <td>220.76</td>\n",
       "      <td>14.97</td>\n",
       "      <td>217.75</td>\n",
       "      <td>14.99</td>\n",
       "      <td>220.49</td>\n",
       "      <td>15517962</td>\n",
       "      <td>61077</td>\n",
       "    </tr>\n",
       "    <tr>\n",
       "      <td>2020-01-29</td>\n",
       "      <td>15.00</td>\n",
       "      <td>221.91</td>\n",
       "      <td>15.08</td>\n",
       "      <td>222.21</td>\n",
       "      <td>14.98</td>\n",
       "      <td>220.01</td>\n",
       "      <td>15.06</td>\n",
       "      <td>220.57</td>\n",
       "      <td>21106185</td>\n",
       "      <td>70234</td>\n",
       "    </tr>\n",
       "    <tr>\n",
       "      <td>2020-01-30</td>\n",
       "      <td>15.10</td>\n",
       "      <td>219.63</td>\n",
       "      <td>15.16</td>\n",
       "      <td>221.49</td>\n",
       "      <td>15.02</td>\n",
       "      <td>218.50</td>\n",
       "      <td>15.07</td>\n",
       "      <td>221.32</td>\n",
       "      <td>27103887</td>\n",
       "      <td>63941</td>\n",
       "    </tr>\n",
       "    <tr>\n",
       "      <td>2020-01-31</td>\n",
       "      <td>15.11</td>\n",
       "      <td>219.88</td>\n",
       "      <td>15.19</td>\n",
       "      <td>220.13</td>\n",
       "      <td>15.10</td>\n",
       "      <td>214.84</td>\n",
       "      <td>15.17</td>\n",
       "      <td>215.37</td>\n",
       "      <td>28167543</td>\n",
       "      <td>68790</td>\n",
       "    </tr>\n",
       "  </tbody>\n",
       "</table>\n",
       "<p>1252 rows × 10 columns</p>\n",
       "</div>"
      ],
      "text/plain": [
       "Attributes   open           high            low          close          \\\n",
       "Symbols       IAU     IXN    IAU     IXN    IAU     IXN    IAU     IXN   \n",
       "date                                                                     \n",
       "2015-02-11  11.93   95.29  11.95   95.75  11.78   95.13  11.80   95.62   \n",
       "2015-02-12  11.86   96.16  11.87   97.05  11.80   96.16  11.83   96.85   \n",
       "2015-02-13  11.89   97.21  11.95   97.76  11.87   97.01  11.89   97.63   \n",
       "2015-02-17  11.73   97.55  11.75   97.82  11.64   97.38  11.70   97.74   \n",
       "2015-02-18  11.69   97.69  11.73   97.98  11.58   97.51  11.73   97.87   \n",
       "...           ...     ...    ...     ...    ...     ...    ...     ...   \n",
       "2020-01-27  15.15  216.78  15.16  218.21  15.07  215.78  15.13  216.68   \n",
       "2020-01-28  15.06  218.11  15.08  220.76  14.97  217.75  14.99  220.49   \n",
       "2020-01-29  15.00  221.91  15.08  222.21  14.98  220.01  15.06  220.57   \n",
       "2020-01-30  15.10  219.63  15.16  221.49  15.02  218.50  15.07  221.32   \n",
       "2020-01-31  15.11  219.88  15.19  220.13  15.10  214.84  15.17  215.37   \n",
       "\n",
       "Attributes    volume          \n",
       "Symbols          IAU     IXN  \n",
       "date                          \n",
       "2015-02-11   6974166   22539  \n",
       "2015-02-12   4607893   36788  \n",
       "2015-02-13   2157174   17951  \n",
       "2015-02-17   5601928   21176  \n",
       "2015-02-18   2693559   74402  \n",
       "...              ...     ...  \n",
       "2020-01-27  15052062  135599  \n",
       "2020-01-28  15517962   61077  \n",
       "2020-01-29  21106185   70234  \n",
       "2020-01-30  27103887   63941  \n",
       "2020-01-31  28167543   68790  \n",
       "\n",
       "[1252 rows x 10 columns]"
      ]
     },
     "execution_count": 5,
     "metadata": {},
     "output_type": "execute_result"
    }
   ],
   "source": [
    "stock_data"
   ]
  },
  {
   "cell_type": "code",
   "execution_count": 69,
   "metadata": {},
   "outputs": [
    {
     "data": {
      "text/html": [
       "<div>\n",
       "<style scoped>\n",
       "    .dataframe tbody tr th:only-of-type {\n",
       "        vertical-align: middle;\n",
       "    }\n",
       "\n",
       "    .dataframe tbody tr th {\n",
       "        vertical-align: top;\n",
       "    }\n",
       "\n",
       "    .dataframe thead tr th {\n",
       "        text-align: left;\n",
       "    }\n",
       "</style>\n",
       "<table border=\"1\" class=\"dataframe\">\n",
       "  <thead>\n",
       "    <tr>\n",
       "      <th>Attributes</th>\n",
       "      <th colspan=\"2\" halign=\"left\">open</th>\n",
       "      <th colspan=\"2\" halign=\"left\">high</th>\n",
       "      <th colspan=\"2\" halign=\"left\">low</th>\n",
       "      <th colspan=\"2\" halign=\"left\">close</th>\n",
       "      <th colspan=\"2\" halign=\"left\">volume</th>\n",
       "    </tr>\n",
       "    <tr>\n",
       "      <th>Symbols</th>\n",
       "      <th>IAU</th>\n",
       "      <th>IXN</th>\n",
       "      <th>IAU</th>\n",
       "      <th>IXN</th>\n",
       "      <th>IAU</th>\n",
       "      <th>IXN</th>\n",
       "      <th>IAU</th>\n",
       "      <th>IXN</th>\n",
       "      <th>IAU</th>\n",
       "      <th>IXN</th>\n",
       "    </tr>\n",
       "  </thead>\n",
       "  <tbody>\n",
       "    <tr>\n",
       "      <td>count</td>\n",
       "      <td>1252.000000</td>\n",
       "      <td>1252.000000</td>\n",
       "      <td>1252.000000</td>\n",
       "      <td>1252.000000</td>\n",
       "      <td>1252.000000</td>\n",
       "      <td>1252.000000</td>\n",
       "      <td>1252.000000</td>\n",
       "      <td>1252.000000</td>\n",
       "      <td>1.252000e+03</td>\n",
       "      <td>1.252000e+03</td>\n",
       "    </tr>\n",
       "    <tr>\n",
       "      <td>mean</td>\n",
       "      <td>12.223786</td>\n",
       "      <td>137.303139</td>\n",
       "      <td>12.269121</td>\n",
       "      <td>138.022101</td>\n",
       "      <td>12.175655</td>\n",
       "      <td>136.554369</td>\n",
       "      <td>12.221885</td>\n",
       "      <td>137.339257</td>\n",
       "      <td>1.050105e+07</td>\n",
       "      <td>6.885200e+04</td>\n",
       "    </tr>\n",
       "    <tr>\n",
       "      <td>std</td>\n",
       "      <td>0.990380</td>\n",
       "      <td>35.217214</td>\n",
       "      <td>0.993101</td>\n",
       "      <td>35.415114</td>\n",
       "      <td>0.984357</td>\n",
       "      <td>35.021134</td>\n",
       "      <td>0.990624</td>\n",
       "      <td>35.243948</td>\n",
       "      <td>7.485094e+06</td>\n",
       "      <td>1.598632e+05</td>\n",
       "    </tr>\n",
       "    <tr>\n",
       "      <td>min</td>\n",
       "      <td>10.180000</td>\n",
       "      <td>85.430000</td>\n",
       "      <td>10.190000</td>\n",
       "      <td>86.640000</td>\n",
       "      <td>10.120000</td>\n",
       "      <td>79.960000</td>\n",
       "      <td>10.150000</td>\n",
       "      <td>86.000000</td>\n",
       "      <td>1.020742e+06</td>\n",
       "      <td>5.236000e+03</td>\n",
       "    </tr>\n",
       "    <tr>\n",
       "      <td>25%</td>\n",
       "      <td>11.620000</td>\n",
       "      <td>100.217500</td>\n",
       "      <td>11.660000</td>\n",
       "      <td>100.742500</td>\n",
       "      <td>11.570000</td>\n",
       "      <td>99.890000</td>\n",
       "      <td>11.617500</td>\n",
       "      <td>100.350000</td>\n",
       "      <td>5.328903e+06</td>\n",
       "      <td>2.148025e+04</td>\n",
       "    </tr>\n",
       "    <tr>\n",
       "      <td>50%</td>\n",
       "      <td>12.160000</td>\n",
       "      <td>137.545000</td>\n",
       "      <td>12.215000</td>\n",
       "      <td>138.250000</td>\n",
       "      <td>12.125000</td>\n",
       "      <td>137.165000</td>\n",
       "      <td>12.170000</td>\n",
       "      <td>137.745000</td>\n",
       "      <td>8.792229e+06</td>\n",
       "      <td>3.931900e+04</td>\n",
       "    </tr>\n",
       "    <tr>\n",
       "      <td>75%</td>\n",
       "      <td>12.680000</td>\n",
       "      <td>166.795000</td>\n",
       "      <td>12.720000</td>\n",
       "      <td>167.632500</td>\n",
       "      <td>12.630000</td>\n",
       "      <td>165.995000</td>\n",
       "      <td>12.670000</td>\n",
       "      <td>166.982500</td>\n",
       "      <td>1.355309e+07</td>\n",
       "      <td>6.665300e+04</td>\n",
       "    </tr>\n",
       "    <tr>\n",
       "      <td>max</td>\n",
       "      <td>15.150000</td>\n",
       "      <td>224.730000</td>\n",
       "      <td>15.190000</td>\n",
       "      <td>225.010000</td>\n",
       "      <td>15.100000</td>\n",
       "      <td>222.420000</td>\n",
       "      <td>15.170000</td>\n",
       "      <td>223.180000</td>\n",
       "      <td>6.306591e+07</td>\n",
       "      <td>3.331397e+06</td>\n",
       "    </tr>\n",
       "  </tbody>\n",
       "</table>\n",
       "</div>"
      ],
      "text/plain": [
       "Attributes         open                      high                       low  \\\n",
       "Symbols             IAU          IXN          IAU          IXN          IAU   \n",
       "count       1252.000000  1252.000000  1252.000000  1252.000000  1252.000000   \n",
       "mean          12.223786   137.303139    12.269121   138.022101    12.175655   \n",
       "std            0.990380    35.217214     0.993101    35.415114     0.984357   \n",
       "min           10.180000    85.430000    10.190000    86.640000    10.120000   \n",
       "25%           11.620000   100.217500    11.660000   100.742500    11.570000   \n",
       "50%           12.160000   137.545000    12.215000   138.250000    12.125000   \n",
       "75%           12.680000   166.795000    12.720000   167.632500    12.630000   \n",
       "max           15.150000   224.730000    15.190000   225.010000    15.100000   \n",
       "\n",
       "Attributes                     close                     volume                \n",
       "Symbols             IXN          IAU          IXN           IAU           IXN  \n",
       "count       1252.000000  1252.000000  1252.000000  1.252000e+03  1.252000e+03  \n",
       "mean         136.554369    12.221885   137.339257  1.050105e+07  6.885200e+04  \n",
       "std           35.021134     0.990624    35.243948  7.485094e+06  1.598632e+05  \n",
       "min           79.960000    10.150000    86.000000  1.020742e+06  5.236000e+03  \n",
       "25%           99.890000    11.617500   100.350000  5.328903e+06  2.148025e+04  \n",
       "50%          137.165000    12.170000   137.745000  8.792229e+06  3.931900e+04  \n",
       "75%          165.995000    12.670000   166.982500  1.355309e+07  6.665300e+04  \n",
       "max          222.420000    15.170000   223.180000  6.306591e+07  3.331397e+06  "
      ]
     },
     "execution_count": 69,
     "metadata": {},
     "output_type": "execute_result"
    }
   ],
   "source": [
    "# Get the summary information of our DataFrame\n",
    "stock_data.describe()"
   ]
  },
  {
   "cell_type": "markdown",
   "metadata": {},
   "source": [
    "We see we have daily information of the `open`, `high`, `low`, `close`, and `volume` of our selected tickers in each row. \n",
    "\n",
    "The index of each row is the date which you can access using the `loc` method:"
   ]
  },
  {
   "cell_type": "code",
   "execution_count": 74,
   "metadata": {},
   "outputs": [
    {
     "data": {
      "text/plain": [
       "Attributes  Symbols\n",
       "open        IAU              15.11\n",
       "            IXN             219.88\n",
       "high        IAU              15.19\n",
       "            IXN             220.13\n",
       "low         IAU              15.10\n",
       "            IXN             214.84\n",
       "close       IAU              15.17\n",
       "            IXN             215.37\n",
       "volume      IAU        28167543.00\n",
       "            IXN           68790.00\n",
       "Name: 2020-01-31, dtype: float64"
      ]
     },
     "execution_count": 74,
     "metadata": {},
     "output_type": "execute_result"
    }
   ],
   "source": [
    "# Get data for Jan 31, 2020\n",
    "stock_data.loc['2020-01-31']"
   ]
  },
  {
   "cell_type": "markdown",
   "metadata": {},
   "source": [
    "### Defining Time Series Data\n",
    "\n",
    "A time series is simply a series of data points ordered in time. In a time series, time is often the **independent variable** and the goal is usually to make a **forecast for the future**.\n",
    "\n",
    "Time series have several characteristics that make their analysis different from other types of data:\n",
    "\n",
    "* An increasing and/or decreasing trend over time\n",
    "* Cyclical or seasonal trends \n",
    "* Some correlation between subsequent observations\n",
    "* Some irregular component, which is referred to as the White Noise\n",
    "\n",
    "We will be analysing a few different types of time series:\n",
    "* Daily stock closing price\n",
    "* Daily relative returns\n",
    "* Daily cumulative returns sum\n",
    "* Daily moving averages\n",
    "\n",
    "\n",
    "### Plot stock data\n",
    "Let us plot only the stock price at the daily **close** for each of our tickers. We will use the `matplotlib` library, like before, for creating and viewing the plots.\n",
    "\n",
    "First, create the `close_price` object:"
   ]
  },
  {
   "cell_type": "code",
   "execution_count": 6,
   "metadata": {},
   "outputs": [],
   "source": [
    "close_price = stock_data['close']"
   ]
  },
  {
   "cell_type": "code",
   "execution_count": 7,
   "metadata": {},
   "outputs": [
    {
     "data": {
      "text/html": [
       "<div>\n",
       "<style scoped>\n",
       "    .dataframe tbody tr th:only-of-type {\n",
       "        vertical-align: middle;\n",
       "    }\n",
       "\n",
       "    .dataframe tbody tr th {\n",
       "        vertical-align: top;\n",
       "    }\n",
       "\n",
       "    .dataframe thead th {\n",
       "        text-align: right;\n",
       "    }\n",
       "</style>\n",
       "<table border=\"1\" class=\"dataframe\">\n",
       "  <thead>\n",
       "    <tr style=\"text-align: right;\">\n",
       "      <th>Symbols</th>\n",
       "      <th>IAU</th>\n",
       "      <th>IXN</th>\n",
       "    </tr>\n",
       "    <tr>\n",
       "      <th>date</th>\n",
       "      <th></th>\n",
       "      <th></th>\n",
       "    </tr>\n",
       "  </thead>\n",
       "  <tbody>\n",
       "    <tr>\n",
       "      <td>2015-02-11</td>\n",
       "      <td>11.80</td>\n",
       "      <td>95.62</td>\n",
       "    </tr>\n",
       "    <tr>\n",
       "      <td>2015-02-12</td>\n",
       "      <td>11.83</td>\n",
       "      <td>96.85</td>\n",
       "    </tr>\n",
       "    <tr>\n",
       "      <td>2015-02-13</td>\n",
       "      <td>11.89</td>\n",
       "      <td>97.63</td>\n",
       "    </tr>\n",
       "    <tr>\n",
       "      <td>2015-02-17</td>\n",
       "      <td>11.70</td>\n",
       "      <td>97.74</td>\n",
       "    </tr>\n",
       "    <tr>\n",
       "      <td>2015-02-18</td>\n",
       "      <td>11.73</td>\n",
       "      <td>97.87</td>\n",
       "    </tr>\n",
       "    <tr>\n",
       "      <td>...</td>\n",
       "      <td>...</td>\n",
       "      <td>...</td>\n",
       "    </tr>\n",
       "    <tr>\n",
       "      <td>2020-01-27</td>\n",
       "      <td>15.13</td>\n",
       "      <td>216.68</td>\n",
       "    </tr>\n",
       "    <tr>\n",
       "      <td>2020-01-28</td>\n",
       "      <td>14.99</td>\n",
       "      <td>220.49</td>\n",
       "    </tr>\n",
       "    <tr>\n",
       "      <td>2020-01-29</td>\n",
       "      <td>15.06</td>\n",
       "      <td>220.57</td>\n",
       "    </tr>\n",
       "    <tr>\n",
       "      <td>2020-01-30</td>\n",
       "      <td>15.07</td>\n",
       "      <td>221.32</td>\n",
       "    </tr>\n",
       "    <tr>\n",
       "      <td>2020-01-31</td>\n",
       "      <td>15.17</td>\n",
       "      <td>215.37</td>\n",
       "    </tr>\n",
       "  </tbody>\n",
       "</table>\n",
       "<p>1252 rows × 2 columns</p>\n",
       "</div>"
      ],
      "text/plain": [
       "Symbols       IAU     IXN\n",
       "date                     \n",
       "2015-02-11  11.80   95.62\n",
       "2015-02-12  11.83   96.85\n",
       "2015-02-13  11.89   97.63\n",
       "2015-02-17  11.70   97.74\n",
       "2015-02-18  11.73   97.87\n",
       "...           ...     ...\n",
       "2020-01-27  15.13  216.68\n",
       "2020-01-28  14.99  220.49\n",
       "2020-01-29  15.06  220.57\n",
       "2020-01-30  15.07  221.32\n",
       "2020-01-31  15.17  215.37\n",
       "\n",
       "[1252 rows x 2 columns]"
      ]
     },
     "execution_count": 7,
     "metadata": {},
     "output_type": "execute_result"
    }
   ],
   "source": [
    "close_price"
   ]
  },
  {
   "cell_type": "markdown",
   "metadata": {},
   "source": [
    "Recall that the `index` refers to the **row labels** in our DataFrame and will be our **x-axis data**. We can get this list of row labels as follows:"
   ]
  },
  {
   "cell_type": "code",
   "execution_count": 77,
   "metadata": {},
   "outputs": [
    {
     "data": {
      "text/plain": [
       "Index(['2015-02-11', '2015-02-12', '2015-02-13', '2015-02-17', '2015-02-18',\n",
       "       '2015-02-19', '2015-02-20', '2015-02-23', '2015-02-24', '2015-02-25',\n",
       "       ...\n",
       "       '2020-01-17', '2020-01-21', '2020-01-22', '2020-01-23', '2020-01-24',\n",
       "       '2020-01-27', '2020-01-28', '2020-01-29', '2020-01-30', '2020-01-31'],\n",
       "      dtype='object', name='date', length=1252)"
      ]
     },
     "execution_count": 77,
     "metadata": {},
     "output_type": "execute_result"
    }
   ],
   "source": [
    "close_price.index"
   ]
  },
  {
   "cell_type": "markdown",
   "metadata": {},
   "source": [
    "Now, let us plot the `close_price` for each of our ETFs using the `matplotlib` library, imported as `plt`:"
   ]
  },
  {
   "cell_type": "code",
   "execution_count": 79,
   "metadata": {},
   "outputs": [
    {
     "data": {
      "image/png": "[encoded data removed]",
      "text/plain": [
       "<Figure size 1152x648 with 1 Axes>"
      ]
     },
     "metadata": {
      "needs_background": "light"
     },
     "output_type": "display_data"
    }
   ],
   "source": [
    "# Set our Figure size\n",
    "plt.figure(figsize=(16, 9))\n",
    "\n",
    "# Plot each of our data series with plt.plot(<x-axis>, <y-axis>, <label>)\n",
    "plt.plot(close_price.index, close_price['IAU'], label='Gold ETF')\n",
    "plt.plot(close_price.index, close_price['IXN'], label='Tech ETF')\n",
    "\n",
    "# Label our plots & add a legend\n",
    "plt.xlabel('Date')\n",
    "plt.ylabel('Closing price ($)')\n",
    "plt.legend()\n",
    "\n",
    "# Display our plot\n",
    "plt.show()"
   ]
  },
  {
   "cell_type": "markdown",
   "metadata": {},
   "source": [
    "So we see the Tech ETF time series, consisting of the daily close price, growing much faster than the Gold ETF but also a lot more volatile.\n",
    "\n",
    "Looking at the daily closing price time series can be quite noisy day-to-day. One way to try and smooth the curves out is by looking at a **moving average** of the daily close price. "
   ]
  },
  {
   "cell_type": "markdown",
   "metadata": {},
   "source": [
    "### Time series - Moving averages\n",
    "\n",
    "A useful timeseries to look at is the simple moving average of the stock time-series data over a **short** and **long** window. The moving average is just the rolling price average of the past X days and pandas has a built-in `rolling()` function. For a short window, we will use 20 days and for a long window, 100 days. \n",
    "\n",
    "Note: creating a moving average means that for a window of $X$ units, the **first $X-1$** units are not valid. For example, if $X = 20\\ days$, the data of the first 19 days is used to calculated the average for day 20. Day 21 is calculated using the prices from Day 2 to Day 21.\n",
    "\n",
    "The reason for introducing the concept of moving averages is that there are trading strategies based on the behaviour of moving averages of differet windows. \n",
    "\n",
    "We will do this **first for just one of the tickers**. Let us use `IXN` global tech ETF ticker:"
   ]
  },
  {
   "cell_type": "code",
   "execution_count": 8,
   "metadata": {},
   "outputs": [],
   "source": [
    "# Select only the IXN column\n",
    "ixn_close_price = close_price['IXN']\n",
    "\n",
    "# Calculate the short (20 day) window moving average timeseries\n",
    "short_window_ixn = ixn_close_price.rolling(window=20).mean()\n",
    "\n",
    "# Calculate the long (100 day) window moving average timeseries\n",
    "long_window_ixn = ixn_close_price.rolling(window=100).mean()"
   ]
  },
  {
   "cell_type": "code",
   "execution_count": 81,
   "metadata": {},
   "outputs": [
    {
     "data": {
      "image/png": "[encoded data removed]",
      "text/plain": [
       "<Figure size 1152x648 with 1 Axes>"
      ]
     },
     "metadata": {
      "needs_background": "light"
     },
     "output_type": "display_data"
    }
   ],
   "source": [
    "# Now we plot the data\n",
    "\n",
    "# First, set the figure size\n",
    "plt.figure(figsize=(16, 9))\n",
    "\n",
    "# Plot our data series with plt.plot(<x-axis>, <y-axis>, <label>)\n",
    "\n",
    "# First, plot the daily IXN close price\n",
    "plt.plot(ixn_close_price.index, ixn_close_price, label='IXN - Global Tech ETF')\n",
    "\n",
    "# Now plot the IXN short window moving average\n",
    "plt.plot(short_window_ixn.index, short_window_ixn, label='20 days MA')\n",
    "\n",
    "# Now plot the IXN long window moving average\n",
    "plt.plot(long_window_ixn.index, long_window_ixn, label='100 days MA')\n",
    "\n",
    "# Label our plots & add a legend\n",
    "plt.xlabel('Date')\n",
    "plt.ylabel('Adjusted closing price ($)')\n",
    "plt.suptitle('Moving average plot')\n",
    "plt.legend()\n",
    "\n",
    "# Display our plot\n",
    "plt.show()"
   ]
  },
  {
   "cell_type": "markdown",
   "metadata": {},
   "source": [
    "* Q) Why do the short-window and long-window curves start later on the graph?\n",
    "* Q) If you had to create a simple trading strategy based on the moving averages, when would you buy and when would you sell?\n",
    "\n",
    "* Q) What do the moving average graphs look like for our other ETF stock tickers? Do the same for IAU - Gold in the next cell."
   ]
  },
  {
   "cell_type": "code",
   "execution_count": 82,
   "metadata": {},
   "outputs": [],
   "source": [
    "# Calculate IAU short and long window moving averages here:"
   ]
  },
  {
   "cell_type": "code",
   "execution_count": 83,
   "metadata": {},
   "outputs": [],
   "source": [
    "# Plot the daily IAU close price, short window and long window moving averages here:"
   ]
  },
  {
   "cell_type": "markdown",
   "metadata": {},
   "source": [
    "* For an interesting read on which moving average lines are popular and why, check out: https://www.investopedia.com/ask/answers/122414/what-are-most-common-periods-used-creating-moving-average-ma-lines.asp\n",
    "\n",
    "Next, we will take a look at a few simple but realistic quantitative trading strategies using Python pandas and the methods discussed above."
   ]
  },
  {
   "cell_type": "markdown",
   "metadata": {},
   "source": [
    "### Time series - Relative Returns\n",
    "\n",
    "Another time series we will look at is the **daily relative return** which refers to the daily % return increase or decrease from the pervious day. We will use pandas to **calculate the returns** of our selected stocks. "
   ]
  },
  {
   "cell_type": "markdown",
   "metadata": {},
   "source": [
    "We calculate the **relative return** timeseries, we use:\n",
    "> $relative \\_return(today) = \\frac{price(today) - price(today-1)} {price(today-1)}$\n",
    "\n",
    "which is simply the percent return over an incremental period of time such as a day.\n",
    "\n",
    "> **Note: this is a simplified version of the process of calculating `relative_returns`. For the correct and more detailed process, see the full version notes of this workshop!**\n",
    "\n",
    "Relative returns can easily be calculated with pandas:"
   ]
  },
  {
   "cell_type": "code",
   "execution_count": 9,
   "metadata": {},
   "outputs": [],
   "source": [
    "relative_returns = close_price.pct_change(1)"
   ]
  },
  {
   "cell_type": "code",
   "execution_count": 10,
   "metadata": {},
   "outputs": [
    {
     "data": {
      "text/html": [
       "<div>\n",
       "<style scoped>\n",
       "    .dataframe tbody tr th:only-of-type {\n",
       "        vertical-align: middle;\n",
       "    }\n",
       "\n",
       "    .dataframe tbody tr th {\n",
       "        vertical-align: top;\n",
       "    }\n",
       "\n",
       "    .dataframe thead th {\n",
       "        text-align: right;\n",
       "    }\n",
       "</style>\n",
       "<table border=\"1\" class=\"dataframe\">\n",
       "  <thead>\n",
       "    <tr style=\"text-align: right;\">\n",
       "      <th>Symbols</th>\n",
       "      <th>IAU</th>\n",
       "      <th>IXN</th>\n",
       "    </tr>\n",
       "    <tr>\n",
       "      <th>date</th>\n",
       "      <th></th>\n",
       "      <th></th>\n",
       "    </tr>\n",
       "  </thead>\n",
       "  <tbody>\n",
       "    <tr>\n",
       "      <td>2015-02-11</td>\n",
       "      <td>NaN</td>\n",
       "      <td>NaN</td>\n",
       "    </tr>\n",
       "    <tr>\n",
       "      <td>2015-02-12</td>\n",
       "      <td>0.002542</td>\n",
       "      <td>0.012863</td>\n",
       "    </tr>\n",
       "    <tr>\n",
       "      <td>2015-02-13</td>\n",
       "      <td>0.005072</td>\n",
       "      <td>0.008054</td>\n",
       "    </tr>\n",
       "    <tr>\n",
       "      <td>2015-02-17</td>\n",
       "      <td>-0.015980</td>\n",
       "      <td>0.001127</td>\n",
       "    </tr>\n",
       "    <tr>\n",
       "      <td>2015-02-18</td>\n",
       "      <td>0.002564</td>\n",
       "      <td>0.001330</td>\n",
       "    </tr>\n",
       "    <tr>\n",
       "      <td>2015-02-19</td>\n",
       "      <td>-0.003410</td>\n",
       "      <td>0.003576</td>\n",
       "    </tr>\n",
       "    <tr>\n",
       "      <td>2015-02-20</td>\n",
       "      <td>-0.006843</td>\n",
       "      <td>0.005701</td>\n",
       "    </tr>\n",
       "    <tr>\n",
       "      <td>2015-02-23</td>\n",
       "      <td>0.001723</td>\n",
       "      <td>0.001114</td>\n",
       "    </tr>\n",
       "    <tr>\n",
       "      <td>2015-02-24</td>\n",
       "      <td>-0.000860</td>\n",
       "      <td>0.003640</td>\n",
       "    </tr>\n",
       "    <tr>\n",
       "      <td>2015-02-25</td>\n",
       "      <td>0.003442</td>\n",
       "      <td>-0.005139</td>\n",
       "    </tr>\n",
       "  </tbody>\n",
       "</table>\n",
       "</div>"
      ],
      "text/plain": [
       "Symbols          IAU       IXN\n",
       "date                          \n",
       "2015-02-11       NaN       NaN\n",
       "2015-02-12  0.002542  0.012863\n",
       "2015-02-13  0.005072  0.008054\n",
       "2015-02-17 -0.015980  0.001127\n",
       "2015-02-18  0.002564  0.001330\n",
       "2015-02-19 -0.003410  0.003576\n",
       "2015-02-20 -0.006843  0.005701\n",
       "2015-02-23  0.001723  0.001114\n",
       "2015-02-24 -0.000860  0.003640\n",
       "2015-02-25  0.003442 -0.005139"
      ]
     },
     "execution_count": 10,
     "metadata": {},
     "output_type": "execute_result"
    }
   ],
   "source": [
    "# Let's look at the first several rows of our `relative_returns` DataFrame:\n",
    "relative_returns.head(10)"
   ]
  },
  {
   "cell_type": "markdown",
   "metadata": {},
   "source": [
    "The values in each cell represent the daily percent gain or loss from the previous day (note - need to multiply by 100 to actually get the percent number)"
   ]
  },
  {
   "cell_type": "markdown",
   "metadata": {},
   "source": [
    "Now instead of the individual daily returns, what if we want to keep a running total, or a **cumulative sum**, of our returns? So for example on `2015-02-25`, we want to know our total return since `2015-02-12`. What would our table above look like?\n",
    "\n",
    "### Time series - Cumulative Returns\n",
    "\n",
    "With pandas, the cumulative sum is calculated by using the `cumsum()` method: "
   ]
  },
  {
   "cell_type": "code",
   "execution_count": 11,
   "metadata": {},
   "outputs": [],
   "source": [
    "cumulative_returns = relative_returns.cumsum()"
   ]
  },
  {
   "cell_type": "markdown",
   "metadata": {},
   "source": [
    "And let us see the same 10 rows as we saw for the `relative_returns` time series above:"
   ]
  },
  {
   "cell_type": "code",
   "execution_count": 12,
   "metadata": {},
   "outputs": [
    {
     "data": {
      "text/html": [
       "<div>\n",
       "<style scoped>\n",
       "    .dataframe tbody tr th:only-of-type {\n",
       "        vertical-align: middle;\n",
       "    }\n",
       "\n",
       "    .dataframe tbody tr th {\n",
       "        vertical-align: top;\n",
       "    }\n",
       "\n",
       "    .dataframe thead th {\n",
       "        text-align: right;\n",
       "    }\n",
       "</style>\n",
       "<table border=\"1\" class=\"dataframe\">\n",
       "  <thead>\n",
       "    <tr style=\"text-align: right;\">\n",
       "      <th>Symbols</th>\n",
       "      <th>IAU</th>\n",
       "      <th>IXN</th>\n",
       "    </tr>\n",
       "    <tr>\n",
       "      <th>date</th>\n",
       "      <th></th>\n",
       "      <th></th>\n",
       "    </tr>\n",
       "  </thead>\n",
       "  <tbody>\n",
       "    <tr>\n",
       "      <td>2015-02-11</td>\n",
       "      <td>NaN</td>\n",
       "      <td>NaN</td>\n",
       "    </tr>\n",
       "    <tr>\n",
       "      <td>2015-02-12</td>\n",
       "      <td>0.002542</td>\n",
       "      <td>0.012863</td>\n",
       "    </tr>\n",
       "    <tr>\n",
       "      <td>2015-02-13</td>\n",
       "      <td>0.007614</td>\n",
       "      <td>0.020917</td>\n",
       "    </tr>\n",
       "    <tr>\n",
       "      <td>2015-02-17</td>\n",
       "      <td>-0.008366</td>\n",
       "      <td>0.022044</td>\n",
       "    </tr>\n",
       "    <tr>\n",
       "      <td>2015-02-18</td>\n",
       "      <td>-0.005801</td>\n",
       "      <td>0.023374</td>\n",
       "    </tr>\n",
       "    <tr>\n",
       "      <td>2015-02-19</td>\n",
       "      <td>-0.009212</td>\n",
       "      <td>0.026950</td>\n",
       "    </tr>\n",
       "    <tr>\n",
       "      <td>2015-02-20</td>\n",
       "      <td>-0.016055</td>\n",
       "      <td>0.032652</td>\n",
       "    </tr>\n",
       "    <tr>\n",
       "      <td>2015-02-23</td>\n",
       "      <td>-0.014332</td>\n",
       "      <td>0.033765</td>\n",
       "    </tr>\n",
       "    <tr>\n",
       "      <td>2015-02-24</td>\n",
       "      <td>-0.015192</td>\n",
       "      <td>0.037406</td>\n",
       "    </tr>\n",
       "    <tr>\n",
       "      <td>2015-02-25</td>\n",
       "      <td>-0.011750</td>\n",
       "      <td>0.032267</td>\n",
       "    </tr>\n",
       "  </tbody>\n",
       "</table>\n",
       "</div>"
      ],
      "text/plain": [
       "Symbols          IAU       IXN\n",
       "date                          \n",
       "2015-02-11       NaN       NaN\n",
       "2015-02-12  0.002542  0.012863\n",
       "2015-02-13  0.007614  0.020917\n",
       "2015-02-17 -0.008366  0.022044\n",
       "2015-02-18 -0.005801  0.023374\n",
       "2015-02-19 -0.009212  0.026950\n",
       "2015-02-20 -0.016055  0.032652\n",
       "2015-02-23 -0.014332  0.033765\n",
       "2015-02-24 -0.015192  0.037406\n",
       "2015-02-25 -0.011750  0.032267"
      ]
     },
     "execution_count": 12,
     "metadata": {},
     "output_type": "execute_result"
    }
   ],
   "source": [
    "cumulative_returns.head(10)"
   ]
  },
  {
   "cell_type": "markdown",
   "metadata": {},
   "source": [
    "And let us see the bottom few rows of this cumulative returns DataFrame to see the total return to date:"
   ]
  },
  {
   "cell_type": "code",
   "execution_count": 13,
   "metadata": {},
   "outputs": [
    {
     "data": {
      "text/html": [
       "<div>\n",
       "<style scoped>\n",
       "    .dataframe tbody tr th:only-of-type {\n",
       "        vertical-align: middle;\n",
       "    }\n",
       "\n",
       "    .dataframe tbody tr th {\n",
       "        vertical-align: top;\n",
       "    }\n",
       "\n",
       "    .dataframe thead th {\n",
       "        text-align: right;\n",
       "    }\n",
       "</style>\n",
       "<table border=\"1\" class=\"dataframe\">\n",
       "  <thead>\n",
       "    <tr style=\"text-align: right;\">\n",
       "      <th>Symbols</th>\n",
       "      <th>IAU</th>\n",
       "      <th>IXN</th>\n",
       "    </tr>\n",
       "    <tr>\n",
       "      <th>date</th>\n",
       "      <th></th>\n",
       "      <th></th>\n",
       "    </tr>\n",
       "  </thead>\n",
       "  <tbody>\n",
       "    <tr>\n",
       "      <td>2020-01-27</td>\n",
       "      <td>0.286488</td>\n",
       "      <td>0.894842</td>\n",
       "    </tr>\n",
       "    <tr>\n",
       "      <td>2020-01-28</td>\n",
       "      <td>0.277235</td>\n",
       "      <td>0.912426</td>\n",
       "    </tr>\n",
       "    <tr>\n",
       "      <td>2020-01-29</td>\n",
       "      <td>0.281905</td>\n",
       "      <td>0.912788</td>\n",
       "    </tr>\n",
       "    <tr>\n",
       "      <td>2020-01-30</td>\n",
       "      <td>0.282569</td>\n",
       "      <td>0.916189</td>\n",
       "    </tr>\n",
       "    <tr>\n",
       "      <td>2020-01-31</td>\n",
       "      <td>0.289204</td>\n",
       "      <td>0.889305</td>\n",
       "    </tr>\n",
       "  </tbody>\n",
       "</table>\n",
       "</div>"
      ],
      "text/plain": [
       "Symbols          IAU       IXN\n",
       "date                          \n",
       "2020-01-27  0.286488  0.894842\n",
       "2020-01-28  0.277235  0.912426\n",
       "2020-01-29  0.281905  0.912788\n",
       "2020-01-30  0.282569  0.916189\n",
       "2020-01-31  0.289204  0.889305"
      ]
     },
     "execution_count": 13,
     "metadata": {},
     "output_type": "execute_result"
    }
   ],
   "source": [
    "cumulative_returns.tail()"
   ]
  },
  {
   "cell_type": "markdown",
   "metadata": {},
   "source": [
    "So now, we can see a time series of our cumulative return for each stock on a daily basis! \n",
    "\n",
    "The above table shows us that the cumulative returns for *IXN - Global Tech ETF* is nearly 89% by Jan 31, 2020 compared with the 29% for IAU - Gold!"
   ]
  },
  {
   "cell_type": "markdown",
   "metadata": {},
   "source": [
    "### Time series - Cumulative Portfolio Returns\n",
    "\n",
    "Now, what if instead of the cumulative returns of each stock/ETF in our portfolio separately, we want to get the total cumulative returns? \n",
    "\n",
    "We can simply sum up across all our columns using the `sum(axis=1)` method on DataFrames as mentioned before:"
   ]
  },
  {
   "cell_type": "code",
   "execution_count": 14,
   "metadata": {},
   "outputs": [
    {
     "data": {
      "text/plain": [
       "date\n",
       "2020-01-27    1.181330\n",
       "2020-01-28    1.189660\n",
       "2020-01-29    1.194693\n",
       "2020-01-30    1.198757\n",
       "2020-01-31    1.178509\n",
       "dtype: float64"
      ]
     },
     "execution_count": 14,
     "metadata": {},
     "output_type": "execute_result"
    }
   ],
   "source": [
    "# Calculate the total returns of both IAU and IXN together:\n",
    "cumulative_returns_portfolio = cumulative_returns.sum(axis=1)\n",
    "\n",
    "# Look at the bottom few rows of the cumulative returns\n",
    "cumulative_returns_portfolio.tail()"
   ]
  },
  {
   "cell_type": "markdown",
   "metadata": {},
   "source": [
    "So the total cumulative return of our portfolio (adding across IAU, and IXN) is 117.85% on Jan 31, 2020.\n",
    "\n",
    "Now let us plot this total cumulative return time series:"
   ]
  },
  {
   "cell_type": "code",
   "execution_count": 97,
   "metadata": {},
   "outputs": [
    {
     "data": {
      "image/png": "[encoded data removed]",
      "text/plain": [
       "<Figure size 1152x648 with 1 Axes>"
      ]
     },
     "metadata": {
      "needs_background": "light"
     },
     "output_type": "display_data"
    }
   ],
   "source": [
    "# First, set the figure size\n",
    "plt.figure(figsize=(16, 9))\n",
    "\n",
    "# Plot our data series with plt.plot(<x-axis>, <y-axis>, <label>)\n",
    "plt.plot(cumulative_returns_portfolio.index, 100*cumulative_returns_portfolio, label=\"Portfolio Return\")\n",
    "\n",
    "# Label our plots & add a legend\n",
    "plt.ylabel('Cumulative portfolio returns (%)')\n",
    "plt.legend()\n",
    "\n",
    "# Display our plot\n",
    "plt.show()"
   ]
  },
  {
   "cell_type": "markdown",
   "metadata": {},
   "source": [
    "Now we have the ability to dissect any stock price ticker into its daily returns and then calculate the **cumulative** return for the entire portfolio over a defined time period!"
   ]
  },
  {
   "cell_type": "markdown",
   "metadata": {},
   "source": [
    "### Time series - Moving Averages on Cumulative Returns\n",
    "\n",
    "Let's plot a short (50 day) window Moving Average and long (200 day) window Moving Average on the **cumulative returns** for each of our ETF's IAU and IXN separately:"
   ]
  },
  {
   "cell_type": "code",
   "execution_count": 99,
   "metadata": {},
   "outputs": [
    {
     "data": {
      "text/html": [
       "<div>\n",
       "<style scoped>\n",
       "    .dataframe tbody tr th:only-of-type {\n",
       "        vertical-align: middle;\n",
       "    }\n",
       "\n",
       "    .dataframe tbody tr th {\n",
       "        vertical-align: top;\n",
       "    }\n",
       "\n",
       "    .dataframe thead th {\n",
       "        text-align: right;\n",
       "    }\n",
       "</style>\n",
       "<table border=\"1\" class=\"dataframe\">\n",
       "  <thead>\n",
       "    <tr style=\"text-align: right;\">\n",
       "      <th>Symbols</th>\n",
       "      <th>IAU</th>\n",
       "      <th>IXN</th>\n",
       "    </tr>\n",
       "    <tr>\n",
       "      <th>date</th>\n",
       "      <th></th>\n",
       "      <th></th>\n",
       "    </tr>\n",
       "  </thead>\n",
       "  <tbody>\n",
       "    <tr>\n",
       "      <td>2020-01-17</td>\n",
       "      <td>0.270453</td>\n",
       "      <td>0.918623</td>\n",
       "    </tr>\n",
       "    <tr>\n",
       "      <td>2020-01-21</td>\n",
       "      <td>0.271125</td>\n",
       "      <td>0.916145</td>\n",
       "    </tr>\n",
       "    <tr>\n",
       "      <td>2020-01-22</td>\n",
       "      <td>0.271125</td>\n",
       "      <td>0.922152</td>\n",
       "    </tr>\n",
       "    <tr>\n",
       "      <td>2020-01-23</td>\n",
       "      <td>0.273810</td>\n",
       "      <td>0.924082</td>\n",
       "    </tr>\n",
       "    <tr>\n",
       "      <td>2020-01-24</td>\n",
       "      <td>0.279164</td>\n",
       "      <td>0.919377</td>\n",
       "    </tr>\n",
       "    <tr>\n",
       "      <td>2020-01-27</td>\n",
       "      <td>0.286488</td>\n",
       "      <td>0.894842</td>\n",
       "    </tr>\n",
       "    <tr>\n",
       "      <td>2020-01-28</td>\n",
       "      <td>0.277235</td>\n",
       "      <td>0.912426</td>\n",
       "    </tr>\n",
       "    <tr>\n",
       "      <td>2020-01-29</td>\n",
       "      <td>0.281905</td>\n",
       "      <td>0.912788</td>\n",
       "    </tr>\n",
       "    <tr>\n",
       "      <td>2020-01-30</td>\n",
       "      <td>0.282569</td>\n",
       "      <td>0.916189</td>\n",
       "    </tr>\n",
       "    <tr>\n",
       "      <td>2020-01-31</td>\n",
       "      <td>0.289204</td>\n",
       "      <td>0.889305</td>\n",
       "    </tr>\n",
       "  </tbody>\n",
       "</table>\n",
       "</div>"
      ],
      "text/plain": [
       "Symbols          IAU       IXN\n",
       "date                          \n",
       "2020-01-17  0.270453  0.918623\n",
       "2020-01-21  0.271125  0.916145\n",
       "2020-01-22  0.271125  0.922152\n",
       "2020-01-23  0.273810  0.924082\n",
       "2020-01-24  0.279164  0.919377\n",
       "2020-01-27  0.286488  0.894842\n",
       "2020-01-28  0.277235  0.912426\n",
       "2020-01-29  0.281905  0.912788\n",
       "2020-01-30  0.282569  0.916189\n",
       "2020-01-31  0.289204  0.889305"
      ]
     },
     "execution_count": 99,
     "metadata": {},
     "output_type": "execute_result"
    }
   ],
   "source": [
    "cumulative_returns.tail(10)"
   ]
  },
  {
   "cell_type": "code",
   "execution_count": 15,
   "metadata": {},
   "outputs": [],
   "source": [
    "# First the short windows:\n",
    "short_window_gold = cumulative_returns[\"IAU\"].rolling(window=50).mean()\n",
    "short_window_tech = cumulative_returns[\"IXN\"].rolling(window=50).mean()\n",
    "\n",
    "# Then the long windows:\n",
    "long_window_gold = cumulative_returns[\"IAU\"].rolling(window=200).mean()\n",
    "long_window_tech = cumulative_returns[\"IXN\"].rolling(window=200).mean()"
   ]
  },
  {
   "cell_type": "markdown",
   "metadata": {},
   "source": [
    "Then we add the plots of these moving average time series separately.\n",
    "\n",
    "First the IAU - Gold plot:"
   ]
  },
  {
   "cell_type": "code",
   "execution_count": 113,
   "metadata": {},
   "outputs": [
    {
     "data": {
      "image/png": "[encoded data removed]",
      "text/plain": [
       "<Figure size 1152x648 with 1 Axes>"
      ]
     },
     "metadata": {
      "needs_background": "light"
     },
     "output_type": "display_data"
    }
   ],
   "source": [
    "# First, set the figure size\n",
    "plt.figure(figsize=(16, 9))\n",
    "\n",
    "# Plot our data series with plt.plot(<x-axis>, <y-axis>, <label>)\n",
    "# First the raw cumulative return data\n",
    "plt.plot(cumulative_returns[\"IAU\"].index, 100*cumulative_returns[\"IAU\"], label=\"IAU - Gold Return\")\n",
    "\n",
    "# Then the short window moving average\n",
    "plt.plot(short_window_gold.index, 100*short_window_gold, label=\"50 day MA IAU - Gold Return\")\n",
    "\n",
    "# Then the long window moving average\n",
    "plt.plot(long_window_gold.index, 100*long_window_gold, label=\"200 day MA IAU - Gold Return\")\n",
    "\n",
    "# Label our plots & add a legend\n",
    "plt.ylabel('Cumulative IAU - Gold returns (%)')\n",
    "plt.legend()\n",
    "\n",
    "# Display our plot\n",
    "plt.show()"
   ]
  },
  {
   "cell_type": "markdown",
   "metadata": {},
   "source": [
    "Now do the same for the IXN - Tech ETF"
   ]
  },
  {
   "cell_type": "code",
   "execution_count": 114,
   "metadata": {},
   "outputs": [
    {
     "data": {
      "image/png": "[encoded data removed]",
      "text/plain": [
       "<Figure size 1152x648 with 1 Axes>"
      ]
     },
     "metadata": {
      "needs_background": "light"
     },
     "output_type": "display_data"
    }
   ],
   "source": [
    "# First, set the figure size\n",
    "plt.figure(figsize=(16, 9))\n",
    "\n",
    "# Plot our data series with plt.plot(<x-axis>, <y-axis>, <label>)\n",
    "# First the raw cumulative return data\n",
    "plt.plot(cumulative_returns[\"IXN\"].index, 100*cumulative_returns[\"IXN\"], label=\"IXN - Tech Return\")\n",
    "\n",
    "# Then the short window moving average\n",
    "plt.plot(short_window_tech.index, 100*short_window_tech, label=\"50 day MA IXN - Tech Return\")\n",
    "\n",
    "# Then the long window moving average\n",
    "plt.plot(long_window_tech.index, 100*long_window_tech, label=\"200 day MA IXN - Tech Return\")\n",
    "\n",
    "# Label our plots & add a legend\n",
    "plt.ylabel('Cumulative IXN - Tech returns (%)')\n",
    "plt.legend()\n",
    "\n",
    "# Display our plot\n",
    "plt.show()"
   ]
  },
  {
   "cell_type": "markdown",
   "metadata": {},
   "source": [
    "Q) Now, how do we actually **identify the exact times where the 50 day moving average crosses the 200 day moving average?** \n",
    "\n",
    "Let's look at our Tech ETF - IXN first, and take the difference of `short_window_tech` and `long_window_tech` time series:"
   ]
  },
  {
   "cell_type": "code",
   "execution_count": 77,
   "metadata": {},
   "outputs": [],
   "source": [
    "tech_diff = short_window_tech - long_window_tech"
   ]
  },
  {
   "cell_type": "markdown",
   "metadata": {},
   "source": [
    "Then, we filter the `diff` series for values **less than or equal to 0:**"
   ]
  },
  {
   "cell_type": "code",
   "execution_count": 78,
   "metadata": {},
   "outputs": [
    {
     "data": {
      "text/plain": [
       "date\n",
       "2016-02-03   -0.000991\n",
       "2016-02-04   -0.002710\n",
       "2016-02-05   -0.004736\n",
       "2016-02-08   -0.006971\n",
       "2016-02-09   -0.009211\n",
       "2016-02-10   -0.011412\n",
       "2016-02-11   -0.013688\n",
       "2016-02-12   -0.016054\n",
       "2016-02-16   -0.018015\n",
       "2016-02-17   -0.019370\n",
       "2016-02-18   -0.021188\n",
       "2016-02-19   -0.022941\n",
       "2016-02-22   -0.024459\n",
       "2016-02-23   -0.025914\n",
       "2016-02-24   -0.027256\n",
       "2016-02-25   -0.028021\n",
       "2016-02-26   -0.028971\n",
       "2016-02-29   -0.030089\n",
       "2016-03-01   -0.030979\n",
       "2016-03-02   -0.031536\n",
       "2016-03-03   -0.031659\n",
       "2016-03-04   -0.031818\n",
       "2016-03-07   -0.032184\n",
       "2016-03-08   -0.032846\n",
       "2016-03-09   -0.033400\n",
       "2016-03-10   -0.034013\n",
       "2016-03-11   -0.034473\n",
       "2016-03-14   -0.034722\n",
       "2016-03-15   -0.034724\n",
       "2016-03-16   -0.034190\n",
       "2016-03-17   -0.033521\n",
       "2016-03-18   -0.032513\n",
       "2016-03-21   -0.030940\n",
       "2016-03-22   -0.029179\n",
       "2016-03-23   -0.027748\n",
       "2016-03-24   -0.026502\n",
       "2016-03-28   -0.024686\n",
       "2016-03-29   -0.023004\n",
       "2016-03-30   -0.020596\n",
       "2016-03-31   -0.018373\n",
       "2016-04-01   -0.015890\n",
       "2016-04-04   -0.013531\n",
       "2016-04-05   -0.011904\n",
       "2016-04-06   -0.009876\n",
       "2016-04-07   -0.008181\n",
       "2016-04-08   -0.006002\n",
       "2016-04-11   -0.004117\n",
       "2016-04-12   -0.002748\n",
       "2016-04-13   -0.001232\n",
       "2018-11-21   -0.000613\n",
       "2018-11-23   -0.003525\n",
       "2018-11-26   -0.006008\n",
       "2018-11-27   -0.008119\n",
       "2018-11-28   -0.009879\n",
       "2018-11-29   -0.011662\n",
       "2018-11-30   -0.013522\n",
       "2018-12-03   -0.014953\n",
       "2018-12-04   -0.017076\n",
       "2018-12-06   -0.019248\n",
       "2018-12-07   -0.021859\n",
       "2018-12-10   -0.024247\n",
       "2018-12-11   -0.026545\n",
       "2018-12-12   -0.028887\n",
       "2018-12-13   -0.031213\n",
       "2018-12-14   -0.034051\n",
       "2018-12-17   -0.036839\n",
       "2018-12-18   -0.039158\n",
       "2018-12-19   -0.041552\n",
       "2018-12-20   -0.044251\n",
       "2018-12-21   -0.046381\n",
       "2018-12-24   -0.048452\n",
       "2018-12-26   -0.050326\n",
       "2018-12-27   -0.051863\n",
       "2018-12-28   -0.053957\n",
       "2018-12-31   -0.055887\n",
       "2019-01-02   -0.057344\n",
       "2019-01-03   -0.059701\n",
       "2019-01-04   -0.061568\n",
       "2019-01-07   -0.063157\n",
       "2019-01-08   -0.063866\n",
       "2019-01-09   -0.065128\n",
       "2019-01-10   -0.065672\n",
       "2019-01-11   -0.066166\n",
       "2019-01-14   -0.067170\n",
       "2019-01-15   -0.068252\n",
       "2019-01-16   -0.069697\n",
       "2019-01-17   -0.070726\n",
       "2019-01-18   -0.071411\n",
       "2019-01-22   -0.072501\n",
       "2019-01-23   -0.074147\n",
       "2019-01-24   -0.075470\n",
       "2019-01-25   -0.076117\n",
       "2019-01-28   -0.076332\n",
       "2019-01-29   -0.076666\n",
       "2019-01-30   -0.076350\n",
       "2019-01-31   -0.076537\n",
       "2019-02-01   -0.076489\n",
       "2019-02-04   -0.075516\n",
       "2019-02-05   -0.074012\n",
       "2019-02-06   -0.072770\n",
       "2019-02-07   -0.071590\n",
       "2019-02-08   -0.070932\n",
       "2019-02-11   -0.070263\n",
       "2019-02-12   -0.069933\n",
       "2019-02-13   -0.069420\n",
       "2019-02-14   -0.068996\n",
       "2019-02-15   -0.068924\n",
       "2019-02-19   -0.068043\n",
       "2019-02-20   -0.067082\n",
       "2019-02-21   -0.065414\n",
       "2019-02-22   -0.063787\n",
       "2019-02-25   -0.062076\n",
       "2019-02-26   -0.060522\n",
       "2019-02-27   -0.058899\n",
       "2019-02-28   -0.056893\n",
       "2019-03-01   -0.054263\n",
       "2019-03-04   -0.051986\n",
       "2019-03-05   -0.049274\n",
       "2019-03-06   -0.046325\n",
       "2019-03-07   -0.043047\n",
       "2019-03-08   -0.039272\n",
       "2019-03-11   -0.036307\n",
       "2019-03-12   -0.033309\n",
       "2019-03-13   -0.030308\n",
       "2019-03-14   -0.027393\n",
       "2019-03-15   -0.024385\n",
       "2019-03-18   -0.020304\n",
       "2019-03-19   -0.016981\n",
       "2019-03-20   -0.013773\n",
       "2019-03-21   -0.010348\n",
       "2019-03-22   -0.007573\n",
       "2019-03-25   -0.004917\n",
       "2019-03-26   -0.002146\n",
       "Name: IXN, dtype: float64"
      ]
     },
     "execution_count": 78,
     "metadata": {},
     "output_type": "execute_result"
    }
   ],
   "source": [
    "tech_intersections = tech_diff[tech_diff <= 0]\n",
    "\n",
    "tech_intersections"
   ]
  },
  {
   "cell_type": "markdown",
   "metadata": {},
   "source": [
    "So, the first date of the intersection is `2016-02-03` and the last date is `2019-03-26`!\n",
    "\n",
    "* Q) What would be our cumulative return if we bought the IXN ETF on `2019-03-26` until the last day of our dataset, `2020-01-31`?"
   ]
  },
  {
   "cell_type": "code",
   "execution_count": 118,
   "metadata": {},
   "outputs": [
    {
     "data": {
      "text/plain": [
       "0.25164918243829515"
      ]
     },
     "execution_count": 118,
     "metadata": {},
     "output_type": "execute_result"
    }
   ],
   "source": [
    "cumulative_returns[\"IXN\"].loc['2020-01-31'] - cumulative_returns[\"IXN\"].loc['2019-03-26']"
   ]
  },
  {
   "cell_type": "markdown",
   "metadata": {},
   "source": [
    "Q) Determine the cumulative return for this ETF if you bought at the second time the 50 day MA crossed the 200 day MA trending upwards, and sold on the next time these two time series cross with the 50 day MA trending down?\n",
    "\n",
    "**Hint:** Look at the first 50 rows of the `tech_intersections` DataFrame. When is there a significant gap between consecutive intersections?"
   ]
  },
  {
   "cell_type": "code",
   "execution_count": 79,
   "metadata": {},
   "outputs": [
    {
     "data": {
      "text/plain": [
       "date\n",
       "2016-02-03   -0.000991\n",
       "2016-02-04   -0.002710\n",
       "2016-02-05   -0.004736\n",
       "2016-02-08   -0.006971\n",
       "2016-02-09   -0.009211\n",
       "Name: IXN, dtype: float64"
      ]
     },
     "execution_count": 79,
     "metadata": {},
     "output_type": "execute_result"
    }
   ],
   "source": [
    "tech_intersections.head()"
   ]
  },
  {
   "cell_type": "code",
   "execution_count": null,
   "metadata": {},
   "outputs": [],
   "source": [
    "cumulative_returns[\"IXN\"].loc['<provide end-date>'] - cumulative_returns[\"IXN\"].loc['<provide-start-date>']"
   ]
  },
  {
   "cell_type": "markdown",
   "metadata": {},
   "source": [
    "## Defining a Weights Trading Strategy\n",
    "\n",
    "Suppose you have a fixed amount of money to invest. A *weights trading strategy* simply means the fraction you put into a particular asset. \n",
    "\n",
    "For example, assume we can invest in 2 assets only and that we have a total amount to invest $N=\\$1000$. If $w_1(t)=0.4$ and $w_2(t)=0.6$, this means that we have invested $w_1(t)N=\\$400$ in asset 1 and $w_2(t)N=\\$600$ in asset 2. \n",
    "\n",
    "Note - We won't go into short selling here but you can also have negative weights representing **short positions**. \n",
    "\n",
    "### Equal Weights Strategy\n",
    "An equal weights strategy simply means using the same value for each weight $w_n(t), in the form of a vector or matrix. \n",
    "\n",
    "If we apply an equal weights strategy on 2 assets for a single trading day, the vector would simply look like: `[2020-01-02 0.5 0.5]`.\n",
    "\n",
    "If we apply an equal weights strategy on 2 assets for say 3 trading days, we now use a matrix which looks like:\n",
    "```\n",
    "[ 2020-01-02, 0.5, 0.5\n",
    "  2020-01-03, 0.5, 0.5\n",
    "  2020-01-04, 0.5, 0.5\n",
    "]\n",
    "```\n",
    "\n",
    "Let us look at how to calculate the return of our trading strategy when using **equal weights**.\n",
    "\n",
    "First, let us look at just a single day, the last day, of our *relative_returns* time series separated by individual tickers:"
   ]
  },
  {
   "cell_type": "code",
   "execution_count": 18,
   "metadata": {},
   "outputs": [
    {
     "data": {
      "text/html": [
       "<div>\n",
       "<style scoped>\n",
       "    .dataframe tbody tr th:only-of-type {\n",
       "        vertical-align: middle;\n",
       "    }\n",
       "\n",
       "    .dataframe tbody tr th {\n",
       "        vertical-align: top;\n",
       "    }\n",
       "\n",
       "    .dataframe thead th {\n",
       "        text-align: right;\n",
       "    }\n",
       "</style>\n",
       "<table border=\"1\" class=\"dataframe\">\n",
       "  <thead>\n",
       "    <tr style=\"text-align: right;\">\n",
       "      <th>Symbols</th>\n",
       "      <th>IAU</th>\n",
       "      <th>IXN</th>\n",
       "    </tr>\n",
       "    <tr>\n",
       "      <th>date</th>\n",
       "      <th></th>\n",
       "      <th></th>\n",
       "    </tr>\n",
       "  </thead>\n",
       "  <tbody>\n",
       "    <tr>\n",
       "      <td>2020-01-31</td>\n",
       "      <td>0.006636</td>\n",
       "      <td>-0.026884</td>\n",
       "    </tr>\n",
       "  </tbody>\n",
       "</table>\n",
       "</div>"
      ],
      "text/plain": [
       "Symbols          IAU       IXN\n",
       "date                          \n",
       "2020-01-31  0.006636 -0.026884"
      ]
     },
     "execution_count": 18,
     "metadata": {},
     "output_type": "execute_result"
    }
   ],
   "source": [
    "last_day = relative_returns.tail(1)\n",
    "last_day"
   ]
  },
  {
   "cell_type": "markdown",
   "metadata": {},
   "source": [
    "This gives us back just a single row, or vector. \n",
    "\n",
    "Now, we will create an **equal weights** vector for all 2 stocks (i.e. a weighting of $1/2$) using the same index (row labels) and columns as our `last_day` vector:"
   ]
  },
  {
   "cell_type": "code",
   "execution_count": 20,
   "metadata": {},
   "outputs": [],
   "source": [
    "equal_weights_list = [1/2, 1/2]"
   ]
  },
  {
   "cell_type": "markdown",
   "metadata": {},
   "source": [
    "Now, we create a DataFrame vector, for just the last day, made up of this `equal_weights_list`:"
   ]
  },
  {
   "cell_type": "code",
   "execution_count": 21,
   "metadata": {},
   "outputs": [
    {
     "data": {
      "text/html": [
       "<div>\n",
       "<style scoped>\n",
       "    .dataframe tbody tr th:only-of-type {\n",
       "        vertical-align: middle;\n",
       "    }\n",
       "\n",
       "    .dataframe tbody tr th {\n",
       "        vertical-align: top;\n",
       "    }\n",
       "\n",
       "    .dataframe thead th {\n",
       "        text-align: right;\n",
       "    }\n",
       "</style>\n",
       "<table border=\"1\" class=\"dataframe\">\n",
       "  <thead>\n",
       "    <tr style=\"text-align: right;\">\n",
       "      <th>Symbols</th>\n",
       "      <th>IAU</th>\n",
       "      <th>IXN</th>\n",
       "    </tr>\n",
       "    <tr>\n",
       "      <th>date</th>\n",
       "      <th></th>\n",
       "      <th></th>\n",
       "    </tr>\n",
       "  </thead>\n",
       "  <tbody>\n",
       "    <tr>\n",
       "      <td>2020-01-31</td>\n",
       "      <td>0.5</td>\n",
       "      <td>0.5</td>\n",
       "    </tr>\n",
       "  </tbody>\n",
       "</table>\n",
       "</div>"
      ],
      "text/plain": [
       "Symbols     IAU  IXN\n",
       "date                \n",
       "2020-01-31  0.5  0.5"
      ]
     },
     "execution_count": 21,
     "metadata": {},
     "output_type": "execute_result"
    }
   ],
   "source": [
    "# Syntax again for creating a DataFrame: pd.DataFrame(data, index=<row_label>, columns=<column_labels>)\n",
    "weights_vector = pd.DataFrame([equal_weights_list], index=last_day.index, columns=last_day.columns)\n",
    "\n",
    "# Display our weights vector\n",
    "weights_vector"
   ]
  },
  {
   "cell_type": "markdown",
   "metadata": {},
   "source": [
    "So now if our `relative_returns` on the last day looks like:\n",
    "`2020-01-31 0.006636 -0.026884`\n",
    "\n",
    "And our `equal_weights` vector looks like:\n",
    "`2020-01-31 0.5\t0.5`\n",
    "\n",
    "Q) What was our actual return with our trading strategy on `2020-01-31`?\n",
    "\n",
    "\n",
    "That's right - we want to **multiply** the weight of each stock times the `last_day` return for that stock to determine how much we would actually get for a single day with this equal weight trading strategy. \n",
    "\n",
    "In order to do this multiplication we simply do:"
   ]
  },
  {
   "cell_type": "code",
   "execution_count": 22,
   "metadata": {},
   "outputs": [
    {
     "data": {
      "text/html": [
       "<div>\n",
       "<style scoped>\n",
       "    .dataframe tbody tr th:only-of-type {\n",
       "        vertical-align: middle;\n",
       "    }\n",
       "\n",
       "    .dataframe tbody tr th {\n",
       "        vertical-align: top;\n",
       "    }\n",
       "\n",
       "    .dataframe thead th {\n",
       "        text-align: right;\n",
       "    }\n",
       "</style>\n",
       "<table border=\"1\" class=\"dataframe\">\n",
       "  <thead>\n",
       "    <tr style=\"text-align: right;\">\n",
       "      <th>Symbols</th>\n",
       "      <th>IAU</th>\n",
       "      <th>IXN</th>\n",
       "    </tr>\n",
       "    <tr>\n",
       "      <th>date</th>\n",
       "      <th></th>\n",
       "      <th></th>\n",
       "    </tr>\n",
       "  </thead>\n",
       "  <tbody>\n",
       "    <tr>\n",
       "      <td>2020-01-31</td>\n",
       "      <td>0.003318</td>\n",
       "      <td>-0.013442</td>\n",
       "    </tr>\n",
       "  </tbody>\n",
       "</table>\n",
       "</div>"
      ],
      "text/plain": [
       "Symbols          IAU       IXN\n",
       "date                          \n",
       "2020-01-31  0.003318 -0.013442"
      ]
     },
     "execution_count": 22,
     "metadata": {},
     "output_type": "execute_result"
    }
   ],
   "source": [
    "weights_vector*last_day"
   ]
  },
  {
   "cell_type": "markdown",
   "metadata": {},
   "source": [
    "And if we want to determine the portfolio return across both stocks, just sum up across all the columns like before with `sum(axis=1)`:"
   ]
  },
  {
   "cell_type": "code",
   "execution_count": 23,
   "metadata": {},
   "outputs": [
    {
     "data": {
      "text/plain": [
       "date\n",
       "2020-01-31   -0.010124\n",
       "dtype: float64"
      ]
     },
     "execution_count": 23,
     "metadata": {},
     "output_type": "execute_result"
    }
   ],
   "source": [
    "(weights_vector*last_day).sum(axis=1)"
   ]
  },
  {
   "cell_type": "markdown",
   "metadata": {},
   "source": [
    "So this is the portfolio return on a single day, from the previous day, using our equal weighting strategy for the 2 specific stocks we have picked. \n",
    "\n",
    "**Now, let us do this for the entire period between our start and end dates:** In this case, instead of simply a weights *vector*, we will have a weights *matrix*:"
   ]
  },
  {
   "cell_type": "code",
   "execution_count": 24,
   "metadata": {},
   "outputs": [
    {
     "data": {
      "text/html": [
       "<div>\n",
       "<style scoped>\n",
       "    .dataframe tbody tr th:only-of-type {\n",
       "        vertical-align: middle;\n",
       "    }\n",
       "\n",
       "    .dataframe tbody tr th {\n",
       "        vertical-align: top;\n",
       "    }\n",
       "\n",
       "    .dataframe thead th {\n",
       "        text-align: right;\n",
       "    }\n",
       "</style>\n",
       "<table border=\"1\" class=\"dataframe\">\n",
       "  <thead>\n",
       "    <tr style=\"text-align: right;\">\n",
       "      <th>Symbols</th>\n",
       "      <th>IAU</th>\n",
       "      <th>IXN</th>\n",
       "    </tr>\n",
       "    <tr>\n",
       "      <th>date</th>\n",
       "      <th></th>\n",
       "      <th></th>\n",
       "    </tr>\n",
       "  </thead>\n",
       "  <tbody>\n",
       "    <tr>\n",
       "      <td>2015-02-11</td>\n",
       "      <td>0.5</td>\n",
       "      <td>0.5</td>\n",
       "    </tr>\n",
       "    <tr>\n",
       "      <td>2015-02-12</td>\n",
       "      <td>0.5</td>\n",
       "      <td>0.5</td>\n",
       "    </tr>\n",
       "    <tr>\n",
       "      <td>2015-02-13</td>\n",
       "      <td>0.5</td>\n",
       "      <td>0.5</td>\n",
       "    </tr>\n",
       "    <tr>\n",
       "      <td>2015-02-17</td>\n",
       "      <td>0.5</td>\n",
       "      <td>0.5</td>\n",
       "    </tr>\n",
       "    <tr>\n",
       "      <td>2015-02-18</td>\n",
       "      <td>0.5</td>\n",
       "      <td>0.5</td>\n",
       "    </tr>\n",
       "    <tr>\n",
       "      <td>...</td>\n",
       "      <td>...</td>\n",
       "      <td>...</td>\n",
       "    </tr>\n",
       "    <tr>\n",
       "      <td>2020-01-27</td>\n",
       "      <td>0.5</td>\n",
       "      <td>0.5</td>\n",
       "    </tr>\n",
       "    <tr>\n",
       "      <td>2020-01-28</td>\n",
       "      <td>0.5</td>\n",
       "      <td>0.5</td>\n",
       "    </tr>\n",
       "    <tr>\n",
       "      <td>2020-01-29</td>\n",
       "      <td>0.5</td>\n",
       "      <td>0.5</td>\n",
       "    </tr>\n",
       "    <tr>\n",
       "      <td>2020-01-30</td>\n",
       "      <td>0.5</td>\n",
       "      <td>0.5</td>\n",
       "    </tr>\n",
       "    <tr>\n",
       "      <td>2020-01-31</td>\n",
       "      <td>0.5</td>\n",
       "      <td>0.5</td>\n",
       "    </tr>\n",
       "  </tbody>\n",
       "</table>\n",
       "<p>1252 rows × 2 columns</p>\n",
       "</div>"
      ],
      "text/plain": [
       "Symbols     IAU  IXN\n",
       "date                \n",
       "2015-02-11  0.5  0.5\n",
       "2015-02-12  0.5  0.5\n",
       "2015-02-13  0.5  0.5\n",
       "2015-02-17  0.5  0.5\n",
       "2015-02-18  0.5  0.5\n",
       "...         ...  ...\n",
       "2020-01-27  0.5  0.5\n",
       "2020-01-28  0.5  0.5\n",
       "2020-01-29  0.5  0.5\n",
       "2020-01-30  0.5  0.5\n",
       "2020-01-31  0.5  0.5\n",
       "\n",
       "[1252 rows x 2 columns]"
      ]
     },
     "execution_count": 24,
     "metadata": {},
     "output_type": "execute_result"
    }
   ],
   "source": [
    "# Instead of just the `last_day` vector, we use the entire `relative_returns` time series:\n",
    "equal_weights = pd.DataFrame([equal_weights_list], index=relative_returns.index, columns=relative_returns.columns)\n",
    "\n",
    "equal_weights"
   ]
  },
  {
   "cell_type": "code",
   "execution_count": 25,
   "metadata": {},
   "outputs": [
    {
     "data": {
      "text/plain": [
       "date\n",
       "2020-01-27   -0.008606\n",
       "2020-01-28    0.004165\n",
       "2020-01-29    0.002516\n",
       "2020-01-30    0.002032\n",
       "2020-01-31   -0.010124\n",
       "dtype: float64"
      ]
     },
     "execution_count": 25,
     "metadata": {},
     "output_type": "execute_result"
    }
   ],
   "source": [
    "# Next we multiply this matrix with `relative_returns` and sum across the columns:\n",
    "equal_strategy_relative_returns = (equal_weights*relative_returns).sum(axis=1)\n",
    "\n",
    "# Let's look at the last few rows:\n",
    "equal_strategy_relative_returns.tail()"
   ]
  },
  {
   "cell_type": "markdown",
   "metadata": {},
   "source": [
    "And now we calculate the **cumulative return** for the entire time series using this equal weights strategy:"
   ]
  },
  {
   "cell_type": "code",
   "execution_count": 26,
   "metadata": {},
   "outputs": [
    {
     "data": {
      "text/plain": [
       "date\n",
       "2020-01-27    0.590665\n",
       "2020-01-28    0.594830\n",
       "2020-01-29    0.597346\n",
       "2020-01-30    0.599379\n",
       "2020-01-31    0.589254\n",
       "dtype: float64"
      ]
     },
     "execution_count": 26,
     "metadata": {},
     "output_type": "execute_result"
    }
   ],
   "source": [
    "cumulative_equal_weights_returns = equal_strategy_relative_returns.cumsum()\n",
    "\n",
    "# Let's look at the last few rows:\n",
    "cumulative_equal_weights_returns.tail()"
   ]
  },
  {
   "cell_type": "markdown",
   "metadata": {},
   "source": [
    "**So with an equal weighting strategy on our ETF stocks: IAU and IXN, we get a 58.9% return by Jan 31, 2020.**\n",
    "\n",
    "Now what about a custom weights strategy depending on the Moving Average trends?\n",
    "\n",
    "### Custom Weights Strategy"
   ]
  },
  {
   "cell_type": "markdown",
   "metadata": {},
   "source": [
    "Let's plot just our Moving Averages for both IAU - Gold and IXN - Tech from earlier on the same plot so we can compare the trends using the same scale:"
   ]
  },
  {
   "cell_type": "code",
   "execution_count": 28,
   "metadata": {
    "scrolled": true
   },
   "outputs": [
    {
     "data": {
      "image/png": "[encoded data removed]",
      "text/plain": [
       "<Figure size 1152x648 with 1 Axes>"
      ]
     },
     "metadata": {
      "needs_background": "light"
     },
     "output_type": "display_data"
    }
   ],
   "source": [
    "# First, set the figure size\n",
    "plt.figure(figsize=(16, 9))\n",
    "\n",
    "# Plot our data series with plt.plot(<x-axis>, <y-axis>, <label>)\n",
    "# First the raw cumulative return data\n",
    "\n",
    "# Then the short window moving average\n",
    "plt.plot(short_window_tech.index, 100*short_window_tech, label=\"50 day MA IXN - Tech Return\")\n",
    "plt.plot(short_window_gold.index, 100*short_window_gold, label=\"50 day MA IAU - Gold Return\")\n",
    "\n",
    "# Then the long window moving average\n",
    "plt.plot(long_window_tech.index, 100*long_window_tech, label=\"200 day MA IXN - Tech Return\")\n",
    "plt.plot(long_window_gold.index, 100*long_window_gold, label=\"200 day MA IAU - Gold Return\")\n",
    "\n",
    "\n",
    "# Label our plots & add a legend\n",
    "plt.ylabel('Moving Average Cumulative returns (%)')\n",
    "plt.legend()\n",
    "\n",
    "# Display our plot\n",
    "plt.show()"
   ]
  },
  {
   "cell_type": "markdown",
   "metadata": {},
   "source": [
    "What if we wanted to implement a trading strategy like looks like the following:\n",
    "\n",
    "![Trading strategy](strategy.png)"
   ]
  },
  {
   "cell_type": "markdown",
   "metadata": {},
   "source": [
    "First, let's get the dates for each of these 4 transition points, which is a bit of a trial process. Some are easy, like the starting point:"
   ]
  },
  {
   "cell_type": "code",
   "execution_count": 45,
   "metadata": {},
   "outputs": [
    {
     "data": {
      "text/html": [
       "<div>\n",
       "<style scoped>\n",
       "    .dataframe tbody tr th:only-of-type {\n",
       "        vertical-align: middle;\n",
       "    }\n",
       "\n",
       "    .dataframe tbody tr th {\n",
       "        vertical-align: top;\n",
       "    }\n",
       "\n",
       "    .dataframe thead th {\n",
       "        text-align: right;\n",
       "    }\n",
       "</style>\n",
       "<table border=\"1\" class=\"dataframe\">\n",
       "  <thead>\n",
       "    <tr style=\"text-align: right;\">\n",
       "      <th>Symbols</th>\n",
       "      <th>IAU</th>\n",
       "      <th>IXN</th>\n",
       "    </tr>\n",
       "    <tr>\n",
       "      <th>date</th>\n",
       "      <th></th>\n",
       "      <th></th>\n",
       "    </tr>\n",
       "  </thead>\n",
       "  <tbody>\n",
       "    <tr>\n",
       "      <td>2015-02-11</td>\n",
       "      <td>NaN</td>\n",
       "      <td>NaN</td>\n",
       "    </tr>\n",
       "    <tr>\n",
       "      <td>2015-02-12</td>\n",
       "      <td>0.002542</td>\n",
       "      <td>0.012863</td>\n",
       "    </tr>\n",
       "    <tr>\n",
       "      <td>2015-02-13</td>\n",
       "      <td>0.005072</td>\n",
       "      <td>0.008054</td>\n",
       "    </tr>\n",
       "    <tr>\n",
       "      <td>2015-02-17</td>\n",
       "      <td>-0.015980</td>\n",
       "      <td>0.001127</td>\n",
       "    </tr>\n",
       "    <tr>\n",
       "      <td>2015-02-18</td>\n",
       "      <td>0.002564</td>\n",
       "      <td>0.001330</td>\n",
       "    </tr>\n",
       "  </tbody>\n",
       "</table>\n",
       "</div>"
      ],
      "text/plain": [
       "Symbols          IAU       IXN\n",
       "date                          \n",
       "2015-02-11       NaN       NaN\n",
       "2015-02-12  0.002542  0.012863\n",
       "2015-02-13  0.005072  0.008054\n",
       "2015-02-17 -0.015980  0.001127\n",
       "2015-02-18  0.002564  0.001330"
      ]
     },
     "execution_count": 45,
     "metadata": {},
     "output_type": "execute_result"
    }
   ],
   "source": [
    "relative_returns.head()"
   ]
  },
  {
   "cell_type": "markdown",
   "metadata": {},
   "source": [
    "So our starting date is `2015-02-12`. \n",
    "\n",
    "Our next transition point is where the 50-day Moving Average crosses the 200-day Moving average, heading down,  for IAU. Like we did before, let's take the difference between these two time series and identify the intersection points.\n",
    "\n",
    "First, we make sure we can see the full display of rows without any display truncation:"
   ]
  },
  {
   "cell_type": "code",
   "execution_count": 99,
   "metadata": {},
   "outputs": [],
   "source": [
    "pd.set_option('display.max_rows', 500)"
   ]
  },
  {
   "cell_type": "code",
   "execution_count": 80,
   "metadata": {},
   "outputs": [
    {
     "data": {
      "text/plain": [
       "date\n",
       "2015-11-25   -0.023953\n",
       "2015-11-27   -0.024579\n",
       "2015-11-30   -0.025219\n",
       "2015-12-01   -0.025768\n",
       "2015-12-02   -0.026427\n",
       "2015-12-03   -0.026996\n",
       "2015-12-04   -0.027652\n",
       "2015-12-07   -0.028423\n",
       "2015-12-08   -0.028918\n",
       "2015-12-09   -0.029350\n",
       "2015-12-10   -0.029550\n",
       "2015-12-11   -0.029646\n",
       "2015-12-14   -0.030387\n",
       "2015-12-15   -0.031103\n",
       "2015-12-16   -0.031865\n",
       "2015-12-17   -0.032909\n",
       "2015-12-18   -0.033794\n",
       "2015-12-21   -0.034827\n",
       "2015-12-22   -0.036049\n",
       "2015-12-23   -0.037429\n",
       "2015-12-24   -0.039067\n",
       "2015-12-28   -0.040710\n",
       "2015-12-29   -0.042243\n",
       "2015-12-30   -0.043802\n",
       "2015-12-31   -0.045422\n",
       "2016-01-04   -0.046633\n",
       "2016-01-05   -0.047758\n",
       "2016-01-06   -0.048572\n",
       "2016-01-07   -0.049137\n",
       "2016-01-08   -0.049836\n",
       "2016-01-11   -0.050462\n",
       "2016-01-12   -0.050966\n",
       "2016-01-13   -0.051387\n",
       "2016-01-14   -0.051941\n",
       "2016-01-15   -0.051923\n",
       "2016-01-19   -0.051748\n",
       "2016-01-20   -0.051255\n",
       "2016-01-21   -0.050493\n",
       "2016-01-22   -0.049898\n",
       "2016-01-25   -0.049110\n",
       "2016-01-26   -0.048064\n",
       "2016-01-27   -0.046988\n",
       "2016-01-28   -0.046059\n",
       "2016-01-29   -0.045065\n",
       "2016-02-01   -0.043654\n",
       "2016-02-02   -0.042206\n",
       "2016-02-03   -0.040880\n",
       "2016-02-04   -0.039238\n",
       "2016-02-05   -0.037272\n",
       "2016-02-08   -0.035201\n",
       "2016-02-09   -0.033136\n",
       "2016-02-10   -0.030652\n",
       "2016-02-11   -0.027606\n",
       "2016-02-12   -0.024769\n",
       "2016-02-16   -0.022173\n",
       "2016-02-17   -0.019724\n",
       "2016-02-18   -0.017300\n",
       "2016-02-19   -0.014685\n",
       "2016-02-22   -0.012375\n",
       "2016-02-23   -0.009821\n",
       "2016-02-24   -0.007215\n",
       "2016-02-25   -0.004636\n",
       "2016-02-26   -0.001921\n",
       "2016-11-23   -0.001910\n",
       "2016-11-25   -0.003808\n",
       "2016-11-28   -0.005524\n",
       "2016-11-29   -0.007490\n",
       "2016-11-30   -0.009653\n",
       "2016-12-01   -0.011994\n",
       "2016-12-02   -0.014369\n",
       "2016-12-05   -0.016927\n",
       "2016-12-06   -0.019372\n",
       "2016-12-07   -0.021645\n",
       "2016-12-08   -0.023857\n",
       "2016-12-09   -0.026214\n",
       "2016-12-12   -0.028392\n",
       "2016-12-13   -0.030608\n",
       "2016-12-14   -0.032338\n",
       "2016-12-15   -0.034143\n",
       "2016-12-16   -0.035666\n",
       "2016-12-19   -0.037099\n",
       "2016-12-20   -0.038731\n",
       "2016-12-21   -0.040305\n",
       "2016-12-22   -0.041871\n",
       "2016-12-23   -0.043517\n",
       "2016-12-27   -0.045022\n",
       "2016-12-28   -0.046541\n",
       "2016-12-29   -0.047866\n",
       "2016-12-30   -0.049416\n",
       "2017-01-03   -0.050788\n",
       "2017-01-04   -0.052163\n",
       "2017-01-05   -0.053245\n",
       "2017-01-06   -0.054700\n",
       "2017-01-09   -0.055955\n",
       "2017-01-10   -0.057152\n",
       "2017-01-11   -0.058335\n",
       "2017-01-12   -0.059564\n",
       "2017-01-13   -0.060834\n",
       "2017-01-17   -0.062071\n",
       "2017-01-18   -0.063599\n",
       "2017-01-19   -0.065087\n",
       "2017-01-20   -0.066216\n",
       "2017-01-23   -0.067089\n",
       "2017-01-24   -0.068017\n",
       "2017-01-25   -0.068702\n",
       "2017-01-26   -0.069092\n",
       "2017-01-27   -0.069340\n",
       "2017-01-30   -0.069751\n",
       "2017-01-31   -0.069865\n",
       "2017-02-01   -0.069950\n",
       "2017-02-02   -0.069690\n",
       "2017-02-03   -0.069489\n",
       "2017-02-06   -0.069046\n",
       "2017-02-07   -0.068288\n",
       "2017-02-08   -0.067328\n",
       "2017-02-09   -0.066672\n",
       "2017-02-10   -0.065861\n",
       "2017-02-13   -0.064801\n",
       "2017-02-14   -0.063592\n",
       "2017-02-15   -0.062419\n",
       "2017-02-16   -0.061077\n",
       "2017-02-17   -0.059809\n",
       "2017-02-21   -0.058590\n",
       "2017-02-22   -0.057282\n",
       "2017-02-23   -0.055736\n",
       "2017-02-24   -0.054149\n",
       "2017-02-27   -0.052526\n",
       "2017-02-28   -0.050656\n",
       "2017-03-01   -0.048511\n",
       "2017-03-02   -0.046637\n",
       "2017-03-03   -0.044869\n",
       "2017-03-06   -0.043150\n",
       "2017-03-07   -0.041572\n",
       "2017-03-08   -0.040035\n",
       "2017-03-09   -0.038653\n",
       "2017-03-10   -0.037461\n",
       "2017-03-13   -0.036318\n",
       "2017-03-14   -0.035534\n",
       "2017-03-15   -0.034417\n",
       "2017-03-16   -0.033337\n",
       "2017-03-17   -0.032347\n",
       "2017-03-20   -0.031596\n",
       "2017-03-21   -0.030442\n",
       "2017-03-22   -0.029371\n",
       "2017-03-23   -0.028447\n",
       "2017-03-24   -0.027454\n",
       "2017-03-27   -0.026432\n",
       "2017-03-28   -0.025508\n",
       "2017-03-29   -0.024788\n",
       "2017-03-30   -0.024000\n",
       "2017-03-31   -0.023108\n",
       "2017-04-03   -0.022246\n",
       "2017-04-04   -0.021431\n",
       "2017-04-05   -0.020546\n",
       "2017-04-06   -0.019666\n",
       "2017-04-07   -0.018544\n",
       "2017-04-10   -0.017490\n",
       "2017-04-11   -0.016095\n",
       "2017-04-12   -0.014806\n",
       "2017-04-13   -0.013448\n",
       "2017-04-17   -0.012237\n",
       "2017-04-18   -0.010998\n",
       "2017-04-19   -0.010070\n",
       "2017-04-20   -0.009025\n",
       "2017-04-21   -0.008019\n",
       "2017-04-24   -0.006995\n",
       "2017-04-25   -0.006153\n",
       "2017-04-26   -0.005145\n",
       "2017-04-27   -0.004286\n",
       "2017-04-28   -0.003433\n",
       "2017-05-01   -0.002867\n",
       "2017-05-02   -0.002236\n",
       "2017-05-03   -0.001838\n",
       "2017-05-04   -0.001591\n",
       "2017-05-05   -0.001603\n",
       "2017-05-08   -0.001666\n",
       "2017-05-09   -0.001773\n",
       "2017-05-10   -0.001899\n",
       "2017-05-11   -0.001967\n",
       "2017-05-12   -0.001652\n",
       "2017-05-15   -0.001289\n",
       "2017-05-16   -0.000690\n",
       "2018-06-26   -0.000919\n",
       "2018-06-27   -0.002127\n",
       "2018-06-28   -0.003356\n",
       "2018-06-29   -0.004542\n",
       "2018-07-02   -0.005689\n",
       "2018-07-03   -0.006564\n",
       "2018-07-05   -0.007550\n",
       "2018-07-06   -0.008393\n",
       "2018-07-09   -0.009175\n",
       "2018-07-10   -0.010113\n",
       "2018-07-11   -0.011059\n",
       "2018-07-12   -0.011748\n",
       "2018-07-13   -0.012555\n",
       "2018-07-16   -0.013497\n",
       "2018-07-17   -0.014652\n",
       "2018-07-18   -0.015826\n",
       "2018-07-19   -0.017092\n",
       "2018-07-20   -0.018220\n",
       "2018-07-23   -0.019523\n",
       "2018-07-24   -0.020819\n",
       "2018-07-25   -0.021942\n",
       "2018-07-26   -0.022801\n",
       "2018-07-27   -0.023627\n",
       "2018-07-30   -0.024434\n",
       "2018-07-31   -0.025248\n",
       "2018-08-01   -0.026136\n",
       "2018-08-02   -0.027134\n",
       "2018-08-03   -0.028119\n",
       "2018-08-06   -0.029363\n",
       "2018-08-07   -0.030501\n",
       "2018-08-08   -0.031636\n",
       "2018-08-09   -0.032788\n",
       "2018-08-10   -0.033930\n",
       "2018-08-13   -0.035189\n",
       "2018-08-14   -0.036448\n",
       "2018-08-15   -0.038016\n",
       "2018-08-16   -0.039584\n",
       "2018-08-17   -0.041054\n",
       "2018-08-20   -0.042460\n",
       "2018-08-21   -0.043821\n",
       "2018-08-22   -0.045116\n",
       "2018-08-23   -0.046565\n",
       "2018-08-24   -0.047832\n",
       "2018-08-27   -0.048691\n",
       "2018-08-28   -0.049588\n",
       "2018-08-29   -0.050408\n",
       "2018-08-30   -0.051215\n",
       "2018-08-31   -0.051974\n",
       "2018-09-04   -0.052860\n",
       "2018-09-05   -0.053637\n",
       "2018-09-06   -0.054202\n",
       "2018-09-07   -0.054777\n",
       "2018-09-10   -0.055294\n",
       "2018-09-11   -0.055819\n",
       "2018-09-12   -0.056056\n",
       "2018-09-13   -0.056506\n",
       "2018-09-14   -0.057104\n",
       "2018-09-17   -0.057649\n",
       "2018-09-18   -0.058298\n",
       "2018-09-19   -0.058840\n",
       "2018-09-20   -0.059111\n",
       "2018-09-21   -0.059610\n",
       "2018-09-24   -0.060033\n",
       "2018-09-25   -0.060500\n",
       "2018-09-26   -0.060822\n",
       "2018-09-27   -0.061284\n",
       "2018-09-28   -0.061577\n",
       "2018-10-01   -0.062004\n",
       "2018-10-02   -0.062166\n",
       "2018-10-03   -0.062359\n",
       "2018-10-04   -0.062664\n",
       "2018-10-05   -0.062760\n",
       "2018-10-08   -0.063026\n",
       "2018-10-09   -0.063222\n",
       "2018-10-10   -0.063398\n",
       "2018-10-11   -0.063042\n",
       "2018-10-12   -0.062593\n",
       "2018-10-15   -0.062116\n",
       "2018-10-16   -0.061508\n",
       "2018-10-17   -0.060908\n",
       "2018-10-18   -0.060334\n",
       "2018-10-19   -0.059715\n",
       "2018-10-22   -0.059125\n",
       "2018-10-23   -0.058169\n",
       "2018-10-24   -0.057229\n",
       "2018-10-25   -0.055959\n",
       "2018-10-26   -0.054633\n",
       "2018-10-29   -0.053451\n",
       "2018-10-30   -0.052439\n",
       "2018-10-31   -0.051608\n",
       "2018-11-01   -0.050627\n",
       "2018-11-02   -0.049461\n",
       "2018-11-05   -0.048642\n",
       "2018-11-06   -0.047928\n",
       "2018-11-07   -0.047011\n",
       "2018-11-08   -0.046260\n",
       "2018-11-09   -0.045548\n",
       "2018-11-12   -0.044970\n",
       "2018-11-13   -0.044324\n",
       "2018-11-14   -0.043566\n",
       "2018-11-15   -0.042827\n",
       "2018-11-16   -0.041963\n",
       "2018-11-19   -0.041042\n",
       "2018-11-20   -0.040230\n",
       "2018-11-21   -0.039548\n",
       "2018-11-23   -0.038822\n",
       "2018-11-26   -0.038000\n",
       "2018-11-27   -0.037330\n",
       "2018-11-28   -0.036535\n",
       "2018-11-29   -0.035684\n",
       "2018-11-30   -0.034924\n",
       "2018-12-03   -0.033939\n",
       "2018-12-04   -0.032921\n",
       "2018-12-06   -0.031992\n",
       "2018-12-07   -0.030784\n",
       "2018-12-10   -0.029476\n",
       "2018-12-11   -0.028296\n",
       "2018-12-12   -0.027081\n",
       "2018-12-13   -0.026115\n",
       "2018-12-14   -0.025176\n",
       "2018-12-17   -0.024107\n",
       "2018-12-18   -0.023090\n",
       "2018-12-19   -0.021838\n",
       "2018-12-20   -0.020447\n",
       "2018-12-21   -0.019174\n",
       "2018-12-24   -0.018236\n",
       "2018-12-26   -0.017242\n",
       "2018-12-27   -0.016270\n",
       "2018-12-28   -0.015229\n",
       "2018-12-31   -0.014143\n",
       "2019-01-02   -0.013108\n",
       "2019-01-03   -0.011927\n",
       "2019-01-04   -0.010827\n",
       "2019-01-07   -0.009723\n",
       "2019-01-08   -0.008709\n",
       "2019-01-09   -0.007522\n",
       "2019-01-10   -0.006431\n",
       "2019-01-11   -0.005278\n",
       "2019-01-14   -0.004074\n",
       "2019-01-15   -0.002791\n",
       "2019-01-16   -0.001654\n",
       "2019-01-17   -0.000569\n",
       "Name: IAU, dtype: float64"
      ]
     },
     "execution_count": 80,
     "metadata": {},
     "output_type": "execute_result"
    }
   ],
   "source": [
    "# Difference between short and long moving average timeseries for Gold ETF\n",
    "gold_diff = short_window_gold - long_window_gold\n",
    "\n",
    "# Filter by when the short_window curve drops below the long_window curve\n",
    "gold_intersections = gold_diff[gold_diff <= 0]\n",
    "\n",
    "gold_intersections"
   ]
  },
  {
   "cell_type": "markdown",
   "metadata": {},
   "source": [
    "We see the jump in dates between `2016-02-26` and `2016-11-23` so `2016-11-23` is our second transition point."
   ]
  },
  {
   "cell_type": "markdown",
   "metadata": {},
   "source": [
    "For our 3rd and 4th transition dates, we look at the intersection timeseries for our IXN - Global Tech stock: "
   ]
  },
  {
   "cell_type": "code",
   "execution_count": 82,
   "metadata": {},
   "outputs": [
    {
     "data": {
      "text/plain": [
       "date\n",
       "2016-02-03   -0.000991\n",
       "2016-02-04   -0.002710\n",
       "2016-02-05   -0.004736\n",
       "2016-02-08   -0.006971\n",
       "2016-02-09   -0.009211\n",
       "2016-02-10   -0.011412\n",
       "2016-02-11   -0.013688\n",
       "2016-02-12   -0.016054\n",
       "2016-02-16   -0.018015\n",
       "2016-02-17   -0.019370\n",
       "2016-02-18   -0.021188\n",
       "2016-02-19   -0.022941\n",
       "2016-02-22   -0.024459\n",
       "2016-02-23   -0.025914\n",
       "2016-02-24   -0.027256\n",
       "2016-02-25   -0.028021\n",
       "2016-02-26   -0.028971\n",
       "2016-02-29   -0.030089\n",
       "2016-03-01   -0.030979\n",
       "2016-03-02   -0.031536\n",
       "2016-03-03   -0.031659\n",
       "2016-03-04   -0.031818\n",
       "2016-03-07   -0.032184\n",
       "2016-03-08   -0.032846\n",
       "2016-03-09   -0.033400\n",
       "2016-03-10   -0.034013\n",
       "2016-03-11   -0.034473\n",
       "2016-03-14   -0.034722\n",
       "2016-03-15   -0.034724\n",
       "2016-03-16   -0.034190\n",
       "2016-03-17   -0.033521\n",
       "2016-03-18   -0.032513\n",
       "2016-03-21   -0.030940\n",
       "2016-03-22   -0.029179\n",
       "2016-03-23   -0.027748\n",
       "2016-03-24   -0.026502\n",
       "2016-03-28   -0.024686\n",
       "2016-03-29   -0.023004\n",
       "2016-03-30   -0.020596\n",
       "2016-03-31   -0.018373\n",
       "2016-04-01   -0.015890\n",
       "2016-04-04   -0.013531\n",
       "2016-04-05   -0.011904\n",
       "2016-04-06   -0.009876\n",
       "2016-04-07   -0.008181\n",
       "2016-04-08   -0.006002\n",
       "2016-04-11   -0.004117\n",
       "2016-04-12   -0.002748\n",
       "2016-04-13   -0.001232\n",
       "2018-11-21   -0.000613\n",
       "2018-11-23   -0.003525\n",
       "2018-11-26   -0.006008\n",
       "2018-11-27   -0.008119\n",
       "2018-11-28   -0.009879\n",
       "2018-11-29   -0.011662\n",
       "2018-11-30   -0.013522\n",
       "2018-12-03   -0.014953\n",
       "2018-12-04   -0.017076\n",
       "2018-12-06   -0.019248\n",
       "2018-12-07   -0.021859\n",
       "2018-12-10   -0.024247\n",
       "2018-12-11   -0.026545\n",
       "2018-12-12   -0.028887\n",
       "2018-12-13   -0.031213\n",
       "2018-12-14   -0.034051\n",
       "2018-12-17   -0.036839\n",
       "2018-12-18   -0.039158\n",
       "2018-12-19   -0.041552\n",
       "2018-12-20   -0.044251\n",
       "2018-12-21   -0.046381\n",
       "2018-12-24   -0.048452\n",
       "2018-12-26   -0.050326\n",
       "2018-12-27   -0.051863\n",
       "2018-12-28   -0.053957\n",
       "2018-12-31   -0.055887\n",
       "2019-01-02   -0.057344\n",
       "2019-01-03   -0.059701\n",
       "2019-01-04   -0.061568\n",
       "2019-01-07   -0.063157\n",
       "2019-01-08   -0.063866\n",
       "2019-01-09   -0.065128\n",
       "2019-01-10   -0.065672\n",
       "2019-01-11   -0.066166\n",
       "2019-01-14   -0.067170\n",
       "2019-01-15   -0.068252\n",
       "2019-01-16   -0.069697\n",
       "2019-01-17   -0.070726\n",
       "2019-01-18   -0.071411\n",
       "2019-01-22   -0.072501\n",
       "2019-01-23   -0.074147\n",
       "2019-01-24   -0.075470\n",
       "2019-01-25   -0.076117\n",
       "2019-01-28   -0.076332\n",
       "2019-01-29   -0.076666\n",
       "2019-01-30   -0.076350\n",
       "2019-01-31   -0.076537\n",
       "2019-02-01   -0.076489\n",
       "2019-02-04   -0.075516\n",
       "2019-02-05   -0.074012\n",
       "2019-02-06   -0.072770\n",
       "2019-02-07   -0.071590\n",
       "2019-02-08   -0.070932\n",
       "2019-02-11   -0.070263\n",
       "2019-02-12   -0.069933\n",
       "2019-02-13   -0.069420\n",
       "2019-02-14   -0.068996\n",
       "2019-02-15   -0.068924\n",
       "2019-02-19   -0.068043\n",
       "2019-02-20   -0.067082\n",
       "2019-02-21   -0.065414\n",
       "2019-02-22   -0.063787\n",
       "2019-02-25   -0.062076\n",
       "2019-02-26   -0.060522\n",
       "2019-02-27   -0.058899\n",
       "2019-02-28   -0.056893\n",
       "2019-03-01   -0.054263\n",
       "2019-03-04   -0.051986\n",
       "2019-03-05   -0.049274\n",
       "2019-03-06   -0.046325\n",
       "2019-03-07   -0.043047\n",
       "2019-03-08   -0.039272\n",
       "2019-03-11   -0.036307\n",
       "2019-03-12   -0.033309\n",
       "2019-03-13   -0.030308\n",
       "2019-03-14   -0.027393\n",
       "2019-03-15   -0.024385\n",
       "2019-03-18   -0.020304\n",
       "2019-03-19   -0.016981\n",
       "2019-03-20   -0.013773\n",
       "2019-03-21   -0.010348\n",
       "2019-03-22   -0.007573\n",
       "2019-03-25   -0.004917\n",
       "2019-03-26   -0.002146\n",
       "Name: IXN, dtype: float64"
      ]
     },
     "execution_count": 82,
     "metadata": {},
     "output_type": "execute_result"
    }
   ],
   "source": [
    "tech_intersections"
   ]
  },
  {
   "cell_type": "markdown",
   "metadata": {},
   "source": [
    "We see a big date transition between `2016-04-13` and `2018-11-21` so `2018-11-21` is our 3rd transition point and `2019-03-26` is our last 4th transition point. \n",
    "\n",
    "Great! Now we just need to create our custom trading strategy matrix using these transition dates. Let's lay out our 4 dates again and their corresponding trading weights in `[IAU, IXN]` format:\n",
    "\n",
    "1. `2015-02-12  [0.5, 0.5]`\n",
    "2. `2016-11-23  [0, 1]`\n",
    "3. `2018-11-21  [1, 0]`\n",
    "4. `2019-03-26  [0.5, 0.5]`\n",
    "\n",
    "Recall that we can get all the rows of a custom date range using:"
   ]
  },
  {
   "cell_type": "code",
   "execution_count": 84,
   "metadata": {},
   "outputs": [
    {
     "data": {
      "text/html": [
       "<div>\n",
       "<style scoped>\n",
       "    .dataframe tbody tr th:only-of-type {\n",
       "        vertical-align: middle;\n",
       "    }\n",
       "\n",
       "    .dataframe tbody tr th {\n",
       "        vertical-align: top;\n",
       "    }\n",
       "\n",
       "    .dataframe thead th {\n",
       "        text-align: right;\n",
       "    }\n",
       "</style>\n",
       "<table border=\"1\" class=\"dataframe\">\n",
       "  <thead>\n",
       "    <tr style=\"text-align: right;\">\n",
       "      <th>Symbols</th>\n",
       "      <th>IAU</th>\n",
       "      <th>IXN</th>\n",
       "    </tr>\n",
       "    <tr>\n",
       "      <th>date</th>\n",
       "      <th></th>\n",
       "      <th></th>\n",
       "    </tr>\n",
       "  </thead>\n",
       "  <tbody>\n",
       "    <tr>\n",
       "      <td>2015-02-12</td>\n",
       "      <td>0.002542</td>\n",
       "      <td>0.012863</td>\n",
       "    </tr>\n",
       "    <tr>\n",
       "      <td>2015-02-13</td>\n",
       "      <td>0.005072</td>\n",
       "      <td>0.008054</td>\n",
       "    </tr>\n",
       "    <tr>\n",
       "      <td>2015-02-17</td>\n",
       "      <td>-0.015980</td>\n",
       "      <td>0.001127</td>\n",
       "    </tr>\n",
       "    <tr>\n",
       "      <td>2015-02-18</td>\n",
       "      <td>0.002564</td>\n",
       "      <td>0.001330</td>\n",
       "    </tr>\n",
       "    <tr>\n",
       "      <td>2015-02-19</td>\n",
       "      <td>-0.003410</td>\n",
       "      <td>0.003576</td>\n",
       "    </tr>\n",
       "    <tr>\n",
       "      <td>2015-02-20</td>\n",
       "      <td>-0.006843</td>\n",
       "      <td>0.005701</td>\n",
       "    </tr>\n",
       "  </tbody>\n",
       "</table>\n",
       "</div>"
      ],
      "text/plain": [
       "Symbols          IAU       IXN\n",
       "date                          \n",
       "2015-02-12  0.002542  0.012863\n",
       "2015-02-13  0.005072  0.008054\n",
       "2015-02-17 -0.015980  0.001127\n",
       "2015-02-18  0.002564  0.001330\n",
       "2015-02-19 -0.003410  0.003576\n",
       "2015-02-20 -0.006843  0.005701"
      ]
     },
     "execution_count": 84,
     "metadata": {},
     "output_type": "execute_result"
    }
   ],
   "source": [
    "relative_returns.loc['2015-02-12':'2015-02-20']"
   ]
  },
  {
   "cell_type": "markdown",
   "metadata": {},
   "source": [
    "And the indices (i.e. just the date range) to create our DataFrame using:"
   ]
  },
  {
   "cell_type": "code",
   "execution_count": 96,
   "metadata": {},
   "outputs": [
    {
     "data": {
      "text/plain": [
       "Index(['2015-02-12', '2015-02-13', '2015-02-17', '2015-02-18', '2015-02-19',\n",
       "       '2015-02-20'],\n",
       "      dtype='object', name='date')"
      ]
     },
     "execution_count": 96,
     "metadata": {},
     "output_type": "execute_result"
    }
   ],
   "source": [
    "relative_returns.loc['2015-02-12':'2015-02-20'].index"
   ]
  },
  {
   "cell_type": "markdown",
   "metadata": {},
   "source": [
    "And that we can add multiple dataframes together using `df1.append(df2)` for example. \n",
    "\n",
    "So, let's stitch together a *custom weights* dataframe using the transition dates"
   ]
  },
  {
   "cell_type": "code",
   "execution_count": 114,
   "metadata": {},
   "outputs": [
    {
     "data": {
      "text/html": [
       "<div>\n",
       "<style scoped>\n",
       "    .dataframe tbody tr th:only-of-type {\n",
       "        vertical-align: middle;\n",
       "    }\n",
       "\n",
       "    .dataframe tbody tr th {\n",
       "        vertical-align: top;\n",
       "    }\n",
       "\n",
       "    .dataframe thead th {\n",
       "        text-align: right;\n",
       "    }\n",
       "</style>\n",
       "<table border=\"1\" class=\"dataframe\">\n",
       "  <thead>\n",
       "    <tr style=\"text-align: right;\">\n",
       "      <th>Symbols</th>\n",
       "      <th>IAU</th>\n",
       "      <th>IXN</th>\n",
       "    </tr>\n",
       "    <tr>\n",
       "      <th>date</th>\n",
       "      <th></th>\n",
       "      <th></th>\n",
       "    </tr>\n",
       "  </thead>\n",
       "  <tbody>\n",
       "    <tr>\n",
       "      <td>2016-11-21</td>\n",
       "      <td>0.5</td>\n",
       "      <td>0.5</td>\n",
       "    </tr>\n",
       "    <tr>\n",
       "      <td>2016-11-22</td>\n",
       "      <td>0.5</td>\n",
       "      <td>0.5</td>\n",
       "    </tr>\n",
       "    <tr>\n",
       "      <td>2016-11-23</td>\n",
       "      <td>0.0</td>\n",
       "      <td>1.0</td>\n",
       "    </tr>\n",
       "    <tr>\n",
       "      <td>2016-11-25</td>\n",
       "      <td>0.0</td>\n",
       "      <td>1.0</td>\n",
       "    </tr>\n",
       "  </tbody>\n",
       "</table>\n",
       "</div>"
      ],
      "text/plain": [
       "Symbols     IAU  IXN\n",
       "date                \n",
       "2016-11-21  0.5  0.5\n",
       "2016-11-22  0.5  0.5\n",
       "2016-11-23  0.0  1.0\n",
       "2016-11-25  0.0  1.0"
      ]
     },
     "execution_count": 114,
     "metadata": {},
     "output_type": "execute_result"
    }
   ],
   "source": [
    "# Set our custom weights\n",
    "wt1 = [1/2, 1/2]\n",
    "wt2 = [0, 1]\n",
    "wt3 = [1,0]\n",
    "wt4 = [0.5,0.5]\n",
    "\n",
    "# Set our custom date ranges based on the transition points identified above\n",
    "dates1 = relative_returns.loc['2015-02-12':'2016-11-22'].index\n",
    "dates2 = relative_returns.loc['2016-11-23':'2018-11-20'].index\n",
    "dates3 = relative_returns.loc['2018-11-21':'2019-03-25'].index\n",
    "dates4 = relative_returns.loc['2019-03-26':'2020-01-31'].index\n",
    "\n",
    "# Create our multiple DataFrames using the corresponding weights and index\n",
    "df1 = pd.DataFrame([wt1], index=dates1, columns=relative_returns.columns)\n",
    "df2 = pd.DataFrame([wt2], index=dates2, columns=relative_returns.columns)\n",
    "df3 = pd.DataFrame([wt3], index=dates3, columns=relative_returns.columns)\n",
    "df4 = pd.DataFrame([wt4], index=dates4, columns=relative_returns.columns)\n",
    "\n",
    "# Append all the DataFrames together\n",
    "custom_strategy = df1.append([df2, df3, df4])\n",
    "\n",
    "# Check a transition point to ensure our weights switch correctly\n",
    "custom_strategy.loc['2016-11-20': '2016-11-25']"
   ]
  },
  {
   "cell_type": "markdown",
   "metadata": {},
   "source": [
    "Now, let's determine our `relative_returns` using this custom trading strategy and then calculate our `cumulative_returns` for the portfolio:"
   ]
  },
  {
   "cell_type": "code",
   "execution_count": 117,
   "metadata": {},
   "outputs": [
    {
     "data": {
      "text/plain": [
       "date\n",
       "2020-01-27   -0.008606\n",
       "2020-01-28    0.004165\n",
       "2020-01-29    0.002516\n",
       "2020-01-30    0.002032\n",
       "2020-01-31   -0.010124\n",
       "dtype: float64"
      ]
     },
     "execution_count": 117,
     "metadata": {},
     "output_type": "execute_result"
    }
   ],
   "source": [
    "custom_strategy_relative_returns = (custom_strategy*relative_returns).sum(axis=1)\n",
    "\n",
    "# Let's look at the last few rows:\n",
    "custom_strategy_relative_returns.tail()"
   ]
  },
  {
   "cell_type": "markdown",
   "metadata": {},
   "source": [
    "And now we calculate the **cumulative return** for the entire time series using this custom weights strategy:"
   ]
  },
  {
   "cell_type": "code",
   "execution_count": 118,
   "metadata": {},
   "outputs": [
    {
     "data": {
      "text/plain": [
       "<bound method NDFrame.tail of date\n",
       "2015-02-11    0.000000\n",
       "2015-02-12    0.007703\n",
       "2015-02-13    0.014266\n",
       "2015-02-17    0.006839\n",
       "2015-02-18    0.008786\n",
       "                ...   \n",
       "2020-01-27    0.721660\n",
       "2020-01-28    0.725825\n",
       "2020-01-29    0.728341\n",
       "2020-01-30    0.730373\n",
       "2020-01-31    0.720249\n",
       "Length: 1252, dtype: float64>"
      ]
     },
     "execution_count": 118,
     "metadata": {},
     "output_type": "execute_result"
    }
   ],
   "source": [
    "cumulative_custom_strategy_returns = custom_strategy_relative_returns.cumsum()\n",
    "\n",
    "# Let's look at the last few rows:\n",
    "cumulative_custom_strategy_returns.tail"
   ]
  },
  {
   "cell_type": "markdown",
   "metadata": {},
   "source": [
    "So earlier, with an equal weighting strategy on our ETF stocks: IAU and IXN, we got a 58.9% return by Jan 31, 2020. Now, we get a **72%** return by Jan 31, 2020 using this strategy!"
   ]
  },
  {
   "cell_type": "markdown",
   "metadata": {},
   "source": [
    "Let's now plot the cumulative time series for both the equal weights and custom weights strategies:"
   ]
  },
  {
   "cell_type": "code",
   "execution_count": 120,
   "metadata": {},
   "outputs": [
    {
     "data": {
      "image/png": "[encoded data removed]",
      "text/plain": [
       "<Figure size 1152x648 with 1 Axes>"
      ]
     },
     "metadata": {
      "needs_background": "light"
     },
     "output_type": "display_data"
    }
   ],
   "source": [
    "# First, set the figure size\n",
    "plt.figure(figsize=(16, 9))\n",
    "\n",
    "# Plot our data series with plt.plot(<x-axis>, <y-axis>, <label>)\n",
    "plt.plot(cumulative_equal_weights_returns.index, 100*cumulative_equal_weights_returns, label='equal weights strategy')\n",
    "plt.plot(cumulative_custom_strategy_returns.index, 100*cumulative_custom_strategy_returns, label='custom weights strategy')\n",
    "\n",
    "# Add our plot labels and legend\n",
    "plt.ylabel('Total relative returns (%)')\n",
    "plt.legend()\n",
    "\n",
    "# Display our plot\n",
    "plt.show()"
   ]
  },
  {
   "cell_type": "markdown",
   "metadata": {},
   "source": [
    "So this makes sense - we start to gain when we shift from equal holdings of Gold and the Tech ETF to solely the Tech ETF when it gets hot, and then shift back to Gold when Tech starts to drop. "
   ]
  },
  {
   "cell_type": "markdown",
   "metadata": {},
   "source": [
    "Let us write a quick function to calculate and print out some basic yearly statistics:"
   ]
  },
  {
   "cell_type": "code",
   "execution_count": 121,
   "metadata": {},
   "outputs": [],
   "source": [
    "def print_portfolio_yearly_statistics(portfolio_cumulative_relative_returns, days_per_year = 52 * 5):\n",
    "\n",
    "    total_days_in_simulation = portfolio_cumulative_relative_returns.shape[0]\n",
    "    number_of_years = total_days_in_simulation / days_per_year\n",
    "\n",
    "    # The last data point will give us the total portfolio return\n",
    "    total_portfolio_return = portfolio_cumulative_relative_returns[-1]\n",
    "    \n",
    "    # Average portfolio return assuming compunding of returns\n",
    "    average_yearly_return = (1 + total_portfolio_return)**(1/number_of_years) - 1\n",
    "\n",
    "    print('Total portfolio return is: ' + '{:5.2f}'.format(100*total_portfolio_return) + '%')\n",
    "    print('Average yearly return is: ' + '{:5.2f}'.format(100*average_yearly_return) + '%')"
   ]
  },
  {
   "cell_type": "markdown",
   "metadata": {},
   "source": [
    "First our equal weights strategy statistics:"
   ]
  },
  {
   "cell_type": "code",
   "execution_count": 122,
   "metadata": {},
   "outputs": [
    {
     "name": "stdout",
     "output_type": "stream",
     "text": [
      "Total portfolio return is: 58.93%\n",
      "Average yearly return is: 10.10%\n"
     ]
    }
   ],
   "source": [
    "print_portfolio_yearly_statistics(cumulative_equal_weights_returns)"
   ]
  },
  {
   "cell_type": "code",
   "execution_count": 123,
   "metadata": {},
   "outputs": [
    {
     "name": "stdout",
     "output_type": "stream",
     "text": [
      "Total portfolio return is: 72.02%\n",
      "Average yearly return is: 11.92%\n"
     ]
    }
   ],
   "source": [
    "print_portfolio_yearly_statistics(cumulative_custom_strategy_returns)"
   ]
  },
  {
   "cell_type": "markdown",
   "metadata": {},
   "source": [
    "### Exercise\n",
    "\n",
    "> Come up with the best returns using a trading strategy on **IAU - Gold** and **IXN - Global Tech** for the time frame we've used. "
   ]
  }
 ],
 "metadata": {
  "kernelspec": {
   "display_name": "Python 3",
   "language": "python",
   "name": "python3"
  },
  "language_info": {
   "codemirror_mode": {
    "name": "ipython",
    "version": 3
   },
   "file_extension": ".py",
   "mimetype": "text/x-python",
   "name": "python",
   "nbconvert_exporter": "python",
   "pygments_lexer": "ipython3",
   "version": "3.7.4"
  }
 },
 "nbformat": 4,
 "nbformat_minor": 2
}
